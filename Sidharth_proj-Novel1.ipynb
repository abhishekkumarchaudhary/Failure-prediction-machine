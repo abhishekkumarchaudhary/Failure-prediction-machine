{
 "cells": [
  {
   "cell_type": "markdown",
   "metadata": {},
   "source": [
    "##Importing libraries"
   ]
  },
  {
   "cell_type": "code",
   "execution_count": 1,
   "metadata": {
    "id": "ESynj51E6zYz"
   },
   "outputs": [],
   "source": [
    "import datetime\n",
    "from math import ceil\n",
    "from sklearn.svm import SVR\n",
    "from sklearn.model_selection import GridSearchCV\n",
    "import matplotlib.pyplot as plt\n",
    "import numpy as np\n",
    "import pandas as pd\n",
    "import seaborn as sns\n",
    "# from xgboost import XGBRegressor\n",
    "from sklearn.linear_model import LinearRegression\n",
    "from sklearn.metrics import mean_absolute_error, mean_squared_error\n",
    "from sklearn.preprocessing import MinMaxScaler\n",
    "from sklearn.metrics import mean_squared_error\n",
    "from sklearn.metrics import mean_absolute_error\n",
    "# from sklearn.tree import DecisionTreeRegressor\n",
    "from sklearn.model_selection import cross_val_score\n",
    "import warnings\n",
    "warnings.filterwarnings('ignore')"
   ]
  },
  {
   "cell_type": "code",
   "execution_count": 2,
   "metadata": {
    "colab": {
     "base_uri": "https://localhost:8080/",
     "height": 206
    },
    "id": "tllmGoCL9GmR",
    "outputId": "6bc4dbae-125b-4967-9fd4-7573ae2284b2"
   },
   "outputs": [
    {
     "data": {
      "text/html": [
       "<div>\n",
       "<style scoped>\n",
       "    .dataframe tbody tr th:only-of-type {\n",
       "        vertical-align: middle;\n",
       "    }\n",
       "\n",
       "    .dataframe tbody tr th {\n",
       "        vertical-align: top;\n",
       "    }\n",
       "\n",
       "    .dataframe thead th {\n",
       "        text-align: right;\n",
       "    }\n",
       "</style>\n",
       "<table border=\"1\" class=\"dataframe\">\n",
       "  <thead>\n",
       "    <tr style=\"text-align: right;\">\n",
       "      <th></th>\n",
       "      <th>datetime</th>\n",
       "      <th>machineID</th>\n",
       "      <th>volt</th>\n",
       "      <th>rotate</th>\n",
       "      <th>pressure</th>\n",
       "      <th>vibration</th>\n",
       "    </tr>\n",
       "  </thead>\n",
       "  <tbody>\n",
       "    <tr>\n",
       "      <th>0</th>\n",
       "      <td>2015-01-01 06:00:00</td>\n",
       "      <td>1</td>\n",
       "      <td>176.217853</td>\n",
       "      <td>418.504078</td>\n",
       "      <td>113.077935</td>\n",
       "      <td>45.087686</td>\n",
       "    </tr>\n",
       "    <tr>\n",
       "      <th>1</th>\n",
       "      <td>2015-01-01 07:00:00</td>\n",
       "      <td>1</td>\n",
       "      <td>162.879223</td>\n",
       "      <td>402.747490</td>\n",
       "      <td>95.460525</td>\n",
       "      <td>43.413973</td>\n",
       "    </tr>\n",
       "    <tr>\n",
       "      <th>2</th>\n",
       "      <td>2015-01-01 08:00:00</td>\n",
       "      <td>1</td>\n",
       "      <td>170.989902</td>\n",
       "      <td>527.349825</td>\n",
       "      <td>75.237905</td>\n",
       "      <td>34.178847</td>\n",
       "    </tr>\n",
       "    <tr>\n",
       "      <th>3</th>\n",
       "      <td>2015-01-01 09:00:00</td>\n",
       "      <td>1</td>\n",
       "      <td>162.462833</td>\n",
       "      <td>346.149335</td>\n",
       "      <td>109.248561</td>\n",
       "      <td>41.122144</td>\n",
       "    </tr>\n",
       "    <tr>\n",
       "      <th>4</th>\n",
       "      <td>2015-01-01 10:00:00</td>\n",
       "      <td>1</td>\n",
       "      <td>157.610021</td>\n",
       "      <td>435.376873</td>\n",
       "      <td>111.886648</td>\n",
       "      <td>25.990511</td>\n",
       "    </tr>\n",
       "  </tbody>\n",
       "</table>\n",
       "</div>"
      ],
      "text/plain": [
       "              datetime  machineID        volt      rotate    pressure  \\\n",
       "0  2015-01-01 06:00:00          1  176.217853  418.504078  113.077935   \n",
       "1  2015-01-01 07:00:00          1  162.879223  402.747490   95.460525   \n",
       "2  2015-01-01 08:00:00          1  170.989902  527.349825   75.237905   \n",
       "3  2015-01-01 09:00:00          1  162.462833  346.149335  109.248561   \n",
       "4  2015-01-01 10:00:00          1  157.610021  435.376873  111.886648   \n",
       "\n",
       "   vibration  \n",
       "0  45.087686  \n",
       "1  43.413973  \n",
       "2  34.178847  \n",
       "3  41.122144  \n",
       "4  25.990511  "
      ]
     },
     "execution_count": 2,
     "metadata": {},
     "output_type": "execute_result"
    }
   ],
   "source": [
    "telemetry_df = pd.read_csv('azure/PdM_telemetry.csv') #Reading telemetry data (Volt,rpm,pressure,vibration)\n",
    "telemetry_df.head()"
   ]
  },
  {
   "cell_type": "code",
   "execution_count": 3,
   "metadata": {
    "colab": {
     "base_uri": "https://localhost:8080/"
    },
    "id": "PJvpRYxf-QwZ",
    "outputId": "54d801d9-154f-45aa-8a8d-5c4dd6bac00a"
   },
   "outputs": [
    {
     "data": {
      "text/plain": [
       "('2015-01-01 06:00:00', '2016-01-01 06:00:00')"
      ]
     },
     "execution_count": 3,
     "metadata": {},
     "output_type": "execute_result"
    }
   ],
   "source": [
    "telemetry_df['datetime'].min(), telemetry_df['datetime'].max()"
   ]
  },
  {
   "cell_type": "code",
   "execution_count": 4,
   "metadata": {
    "colab": {
     "base_uri": "https://localhost:8080/"
    },
    "id": "5Lw0nG8m-V9l",
    "outputId": "2c6ca29b-ca67-4bad-db33-c8167d818d6e"
   },
   "outputs": [
    {
     "data": {
      "text/plain": [
       "machineID\n",
       "1      8761\n",
       "64     8761\n",
       "74     8761\n",
       "73     8761\n",
       "72     8761\n",
       "       ... \n",
       "31     8761\n",
       "30     8761\n",
       "29     8761\n",
       "28     8761\n",
       "100    8761\n",
       "Name: count, Length: 100, dtype: int64"
      ]
     },
     "execution_count": 4,
     "metadata": {},
     "output_type": "execute_result"
    }
   ],
   "source": [
    "telemetry_df['machineID'].value_counts()"
   ]
  },
  {
   "cell_type": "code",
   "execution_count": 5,
   "metadata": {
    "colab": {
     "base_uri": "https://localhost:8080/",
     "height": 300
    },
    "id": "bPEjxc5V-YrE",
    "outputId": "61f94bf8-7512-449a-89c8-4e32628e0a23"
   },
   "outputs": [
    {
     "data": {
      "text/html": [
       "<div>\n",
       "<style scoped>\n",
       "    .dataframe tbody tr th:only-of-type {\n",
       "        vertical-align: middle;\n",
       "    }\n",
       "\n",
       "    .dataframe tbody tr th {\n",
       "        vertical-align: top;\n",
       "    }\n",
       "\n",
       "    .dataframe thead th {\n",
       "        text-align: right;\n",
       "    }\n",
       "</style>\n",
       "<table border=\"1\" class=\"dataframe\">\n",
       "  <thead>\n",
       "    <tr style=\"text-align: right;\">\n",
       "      <th></th>\n",
       "      <th>volt</th>\n",
       "      <th>rotate</th>\n",
       "      <th>pressure</th>\n",
       "      <th>vibration</th>\n",
       "    </tr>\n",
       "  </thead>\n",
       "  <tbody>\n",
       "    <tr>\n",
       "      <th>count</th>\n",
       "      <td>876100.000000</td>\n",
       "      <td>876100.000000</td>\n",
       "      <td>876100.000000</td>\n",
       "      <td>876100.000000</td>\n",
       "    </tr>\n",
       "    <tr>\n",
       "      <th>mean</th>\n",
       "      <td>170.777736</td>\n",
       "      <td>446.605119</td>\n",
       "      <td>100.858668</td>\n",
       "      <td>40.385007</td>\n",
       "    </tr>\n",
       "    <tr>\n",
       "      <th>std</th>\n",
       "      <td>15.509114</td>\n",
       "      <td>52.673886</td>\n",
       "      <td>11.048679</td>\n",
       "      <td>5.370361</td>\n",
       "    </tr>\n",
       "    <tr>\n",
       "      <th>min</th>\n",
       "      <td>97.333604</td>\n",
       "      <td>138.432075</td>\n",
       "      <td>51.237106</td>\n",
       "      <td>14.877054</td>\n",
       "    </tr>\n",
       "    <tr>\n",
       "      <th>25%</th>\n",
       "      <td>160.304927</td>\n",
       "      <td>412.305714</td>\n",
       "      <td>93.498181</td>\n",
       "      <td>36.777299</td>\n",
       "    </tr>\n",
       "    <tr>\n",
       "      <th>50%</th>\n",
       "      <td>170.607338</td>\n",
       "      <td>447.558150</td>\n",
       "      <td>100.425559</td>\n",
       "      <td>40.237247</td>\n",
       "    </tr>\n",
       "    <tr>\n",
       "      <th>75%</th>\n",
       "      <td>181.004493</td>\n",
       "      <td>482.176600</td>\n",
       "      <td>107.555231</td>\n",
       "      <td>43.784938</td>\n",
       "    </tr>\n",
       "    <tr>\n",
       "      <th>max</th>\n",
       "      <td>255.124717</td>\n",
       "      <td>695.020984</td>\n",
       "      <td>185.951998</td>\n",
       "      <td>76.791072</td>\n",
       "    </tr>\n",
       "  </tbody>\n",
       "</table>\n",
       "</div>"
      ],
      "text/plain": [
       "                volt         rotate       pressure      vibration\n",
       "count  876100.000000  876100.000000  876100.000000  876100.000000\n",
       "mean      170.777736     446.605119     100.858668      40.385007\n",
       "std        15.509114      52.673886      11.048679       5.370361\n",
       "min        97.333604     138.432075      51.237106      14.877054\n",
       "25%       160.304927     412.305714      93.498181      36.777299\n",
       "50%       170.607338     447.558150     100.425559      40.237247\n",
       "75%       181.004493     482.176600     107.555231      43.784938\n",
       "max       255.124717     695.020984     185.951998      76.791072"
      ]
     },
     "execution_count": 5,
     "metadata": {},
     "output_type": "execute_result"
    }
   ],
   "source": [
    "telemetry_df[['volt', 'rotate', 'pressure', 'vibration']].describe()"
   ]
  },
  {
   "cell_type": "code",
   "execution_count": 6,
   "metadata": {
    "colab": {
     "base_uri": "https://localhost:8080/"
    },
    "id": "SSa60WkL-beX",
    "outputId": "1c5e7b4f-ce63-44c5-8ff6-9279f0a77585"
   },
   "outputs": [
    {
     "name": "stdout",
     "output_type": "stream",
     "text": [
      "<class 'pandas.core.frame.DataFrame'>\n",
      "RangeIndex: 876100 entries, 0 to 876099\n",
      "Data columns (total 6 columns):\n",
      " #   Column     Non-Null Count   Dtype  \n",
      "---  ------     --------------   -----  \n",
      " 0   datetime   876100 non-null  object \n",
      " 1   machineID  876100 non-null  int64  \n",
      " 2   volt       876100 non-null  float64\n",
      " 3   rotate     876100 non-null  float64\n",
      " 4   pressure   876100 non-null  float64\n",
      " 5   vibration  876100 non-null  float64\n",
      "dtypes: float64(4), int64(1), object(1)\n",
      "memory usage: 40.1+ MB\n"
     ]
    }
   ],
   "source": [
    "telemetry_df.info()"
   ]
  },
  {
   "cell_type": "code",
   "execution_count": 7,
   "metadata": {
    "colab": {
     "base_uri": "https://localhost:8080/",
     "height": 206
    },
    "id": "l8cEigZS-eUH",
    "outputId": "8b29f433-427a-48b2-dc64-758b1ed631a2"
   },
   "outputs": [
    {
     "data": {
      "text/html": [
       "<div>\n",
       "<style scoped>\n",
       "    .dataframe tbody tr th:only-of-type {\n",
       "        vertical-align: middle;\n",
       "    }\n",
       "\n",
       "    .dataframe tbody tr th {\n",
       "        vertical-align: top;\n",
       "    }\n",
       "\n",
       "    .dataframe thead th {\n",
       "        text-align: right;\n",
       "    }\n",
       "</style>\n",
       "<table border=\"1\" class=\"dataframe\">\n",
       "  <thead>\n",
       "    <tr style=\"text-align: right;\">\n",
       "      <th></th>\n",
       "      <th>datetime</th>\n",
       "      <th>machineID</th>\n",
       "      <th>failure</th>\n",
       "    </tr>\n",
       "  </thead>\n",
       "  <tbody>\n",
       "    <tr>\n",
       "      <th>0</th>\n",
       "      <td>2015-01-05 06:00:00</td>\n",
       "      <td>1</td>\n",
       "      <td>comp4</td>\n",
       "    </tr>\n",
       "    <tr>\n",
       "      <th>1</th>\n",
       "      <td>2015-03-06 06:00:00</td>\n",
       "      <td>1</td>\n",
       "      <td>comp1</td>\n",
       "    </tr>\n",
       "    <tr>\n",
       "      <th>2</th>\n",
       "      <td>2015-04-20 06:00:00</td>\n",
       "      <td>1</td>\n",
       "      <td>comp2</td>\n",
       "    </tr>\n",
       "    <tr>\n",
       "      <th>3</th>\n",
       "      <td>2015-06-19 06:00:00</td>\n",
       "      <td>1</td>\n",
       "      <td>comp4</td>\n",
       "    </tr>\n",
       "    <tr>\n",
       "      <th>4</th>\n",
       "      <td>2015-09-02 06:00:00</td>\n",
       "      <td>1</td>\n",
       "      <td>comp4</td>\n",
       "    </tr>\n",
       "  </tbody>\n",
       "</table>\n",
       "</div>"
      ],
      "text/plain": [
       "              datetime  machineID failure\n",
       "0  2015-01-05 06:00:00          1   comp4\n",
       "1  2015-03-06 06:00:00          1   comp1\n",
       "2  2015-04-20 06:00:00          1   comp2\n",
       "3  2015-06-19 06:00:00          1   comp4\n",
       "4  2015-09-02 06:00:00          1   comp4"
      ]
     },
     "execution_count": 7,
     "metadata": {},
     "output_type": "execute_result"
    }
   ],
   "source": [
    "failures = pd.read_csv('azure/PdM_failures.csv')\n",
    "failures.head()"
   ]
  },
  {
   "cell_type": "code",
   "execution_count": 8,
   "metadata": {
    "colab": {
     "base_uri": "https://localhost:8080/",
     "height": 206
    },
    "id": "-Ui-CQcS_HCf",
    "outputId": "29c633a8-d458-4a43-e05a-6d7f1e5d3784"
   },
   "outputs": [
    {
     "data": {
      "text/html": [
       "<div>\n",
       "<style scoped>\n",
       "    .dataframe tbody tr th:only-of-type {\n",
       "        vertical-align: middle;\n",
       "    }\n",
       "\n",
       "    .dataframe tbody tr th {\n",
       "        vertical-align: top;\n",
       "    }\n",
       "\n",
       "    .dataframe thead th {\n",
       "        text-align: right;\n",
       "    }\n",
       "</style>\n",
       "<table border=\"1\" class=\"dataframe\">\n",
       "  <thead>\n",
       "    <tr style=\"text-align: right;\">\n",
       "      <th></th>\n",
       "      <th>datetime</th>\n",
       "      <th>machineID</th>\n",
       "      <th>failure</th>\n",
       "    </tr>\n",
       "  </thead>\n",
       "  <tbody>\n",
       "    <tr>\n",
       "      <th>0</th>\n",
       "      <td>2015-01-02 03:00:00</td>\n",
       "      <td>56</td>\n",
       "      <td>comp3</td>\n",
       "    </tr>\n",
       "    <tr>\n",
       "      <th>1</th>\n",
       "      <td>2015-01-02 03:00:00</td>\n",
       "      <td>99</td>\n",
       "      <td>comp3</td>\n",
       "    </tr>\n",
       "    <tr>\n",
       "      <th>2</th>\n",
       "      <td>2015-01-02 03:00:00</td>\n",
       "      <td>83</td>\n",
       "      <td>comp4</td>\n",
       "    </tr>\n",
       "    <tr>\n",
       "      <th>3</th>\n",
       "      <td>2015-01-02 03:00:00</td>\n",
       "      <td>59</td>\n",
       "      <td>comp1</td>\n",
       "    </tr>\n",
       "    <tr>\n",
       "      <th>4</th>\n",
       "      <td>2015-01-02 03:00:00</td>\n",
       "      <td>16</td>\n",
       "      <td>comp1</td>\n",
       "    </tr>\n",
       "  </tbody>\n",
       "</table>\n",
       "</div>"
      ],
      "text/plain": [
       "              datetime  machineID failure\n",
       "0  2015-01-02 03:00:00         56   comp3\n",
       "1  2015-01-02 03:00:00         99   comp3\n",
       "2  2015-01-02 03:00:00         83   comp4\n",
       "3  2015-01-02 03:00:00         59   comp1\n",
       "4  2015-01-02 03:00:00         16   comp1"
      ]
     },
     "execution_count": 8,
     "metadata": {},
     "output_type": "execute_result"
    }
   ],
   "source": [
    "failures = failures.sort_values(by='datetime')\n",
    "failures.reset_index(inplace=True, drop=True)\n",
    "failures.head()"
   ]
  },
  {
   "cell_type": "code",
   "execution_count": 9,
   "metadata": {
    "colab": {
     "base_uri": "https://localhost:8080/"
    },
    "id": "Otom3QHR_M0v",
    "outputId": "47d2cf06-48c8-436d-d554-b03cfebc9378"
   },
   "outputs": [
    {
     "data": {
      "text/plain": [
       "failure\n",
       "comp2    259\n",
       "comp1    192\n",
       "comp4    179\n",
       "comp3    131\n",
       "Name: count, dtype: int64"
      ]
     },
     "execution_count": 9,
     "metadata": {},
     "output_type": "execute_result"
    }
   ],
   "source": [
    "failures['failure'].value_counts()"
   ]
  },
  {
   "cell_type": "code",
   "execution_count": 10,
   "metadata": {
    "id": "1vEnELeN_Pgs"
   },
   "outputs": [],
   "source": [
    "telemetry_with_failure_df = telemetry_df.merge(failures, on=['datetime', 'machineID'], how='left')\n",
    "telemetry_with_failure_df.fillna('No Failure', inplace=True)"
   ]
  },
  {
   "cell_type": "code",
   "execution_count": 11,
   "metadata": {
    "colab": {
     "base_uri": "https://localhost:8080/"
    },
    "id": "NIkKk6vG_TQX",
    "outputId": "809d1813-5b7d-4a94-b09c-26448c069983"
   },
   "outputs": [
    {
     "data": {
      "text/plain": [
       "failure\n",
       "No Failure    875381\n",
       "comp2            259\n",
       "comp1            192\n",
       "comp4            179\n",
       "comp3            131\n",
       "Name: count, dtype: int64"
      ]
     },
     "execution_count": 11,
     "metadata": {},
     "output_type": "execute_result"
    }
   ],
   "source": [
    "telemetry_with_failure_df['failure'].value_counts()"
   ]
  },
  {
   "cell_type": "code",
   "execution_count": 12,
   "metadata": {
    "colab": {
     "base_uri": "https://localhost:8080/",
     "height": 206
    },
    "id": "xVGF36M1_Wih",
    "outputId": "a93b35d0-ab4f-416c-e5e2-dc30eeab6204"
   },
   "outputs": [
    {
     "data": {
      "text/html": [
       "<div>\n",
       "<style scoped>\n",
       "    .dataframe tbody tr th:only-of-type {\n",
       "        vertical-align: middle;\n",
       "    }\n",
       "\n",
       "    .dataframe tbody tr th {\n",
       "        vertical-align: top;\n",
       "    }\n",
       "\n",
       "    .dataframe thead th {\n",
       "        text-align: right;\n",
       "    }\n",
       "</style>\n",
       "<table border=\"1\" class=\"dataframe\">\n",
       "  <thead>\n",
       "    <tr style=\"text-align: right;\">\n",
       "      <th></th>\n",
       "      <th>machineID</th>\n",
       "      <th>model</th>\n",
       "      <th>age</th>\n",
       "    </tr>\n",
       "  </thead>\n",
       "  <tbody>\n",
       "    <tr>\n",
       "      <th>0</th>\n",
       "      <td>1</td>\n",
       "      <td>model3</td>\n",
       "      <td>18</td>\n",
       "    </tr>\n",
       "    <tr>\n",
       "      <th>1</th>\n",
       "      <td>2</td>\n",
       "      <td>model4</td>\n",
       "      <td>7</td>\n",
       "    </tr>\n",
       "    <tr>\n",
       "      <th>2</th>\n",
       "      <td>3</td>\n",
       "      <td>model3</td>\n",
       "      <td>8</td>\n",
       "    </tr>\n",
       "    <tr>\n",
       "      <th>3</th>\n",
       "      <td>4</td>\n",
       "      <td>model3</td>\n",
       "      <td>7</td>\n",
       "    </tr>\n",
       "    <tr>\n",
       "      <th>4</th>\n",
       "      <td>5</td>\n",
       "      <td>model3</td>\n",
       "      <td>2</td>\n",
       "    </tr>\n",
       "  </tbody>\n",
       "</table>\n",
       "</div>"
      ],
      "text/plain": [
       "   machineID   model  age\n",
       "0          1  model3   18\n",
       "1          2  model4    7\n",
       "2          3  model3    8\n",
       "3          4  model3    7\n",
       "4          5  model3    2"
      ]
     },
     "execution_count": 12,
     "metadata": {},
     "output_type": "execute_result"
    }
   ],
   "source": [
    "machine_info = pd.read_csv('azure/PdM_machines.csv')\n",
    "machine_info.head()"
   ]
  },
  {
   "cell_type": "code",
   "execution_count": 13,
   "metadata": {
    "colab": {
     "base_uri": "https://localhost:8080/",
     "height": 206
    },
    "id": "pVD33L_j_YxI",
    "outputId": "02fd95b9-bbeb-4636-97f4-fc22091150c7"
   },
   "outputs": [
    {
     "data": {
      "text/html": [
       "<div>\n",
       "<style scoped>\n",
       "    .dataframe tbody tr th:only-of-type {\n",
       "        vertical-align: middle;\n",
       "    }\n",
       "\n",
       "    .dataframe tbody tr th {\n",
       "        vertical-align: top;\n",
       "    }\n",
       "\n",
       "    .dataframe thead th {\n",
       "        text-align: right;\n",
       "    }\n",
       "</style>\n",
       "<table border=\"1\" class=\"dataframe\">\n",
       "  <thead>\n",
       "    <tr style=\"text-align: right;\">\n",
       "      <th></th>\n",
       "      <th>machineID</th>\n",
       "      <th>model</th>\n",
       "      <th>age</th>\n",
       "      <th>datetime</th>\n",
       "      <th>volt</th>\n",
       "      <th>rotate</th>\n",
       "      <th>pressure</th>\n",
       "      <th>vibration</th>\n",
       "      <th>failure</th>\n",
       "    </tr>\n",
       "  </thead>\n",
       "  <tbody>\n",
       "    <tr>\n",
       "      <th>0</th>\n",
       "      <td>1</td>\n",
       "      <td>model3</td>\n",
       "      <td>18</td>\n",
       "      <td>2015-01-01 06:00:00</td>\n",
       "      <td>176.217853</td>\n",
       "      <td>418.504078</td>\n",
       "      <td>113.077935</td>\n",
       "      <td>45.087686</td>\n",
       "      <td>No Failure</td>\n",
       "    </tr>\n",
       "    <tr>\n",
       "      <th>1</th>\n",
       "      <td>1</td>\n",
       "      <td>model3</td>\n",
       "      <td>18</td>\n",
       "      <td>2015-01-01 07:00:00</td>\n",
       "      <td>162.879223</td>\n",
       "      <td>402.747490</td>\n",
       "      <td>95.460525</td>\n",
       "      <td>43.413973</td>\n",
       "      <td>No Failure</td>\n",
       "    </tr>\n",
       "    <tr>\n",
       "      <th>2</th>\n",
       "      <td>1</td>\n",
       "      <td>model3</td>\n",
       "      <td>18</td>\n",
       "      <td>2015-01-01 08:00:00</td>\n",
       "      <td>170.989902</td>\n",
       "      <td>527.349825</td>\n",
       "      <td>75.237905</td>\n",
       "      <td>34.178847</td>\n",
       "      <td>No Failure</td>\n",
       "    </tr>\n",
       "    <tr>\n",
       "      <th>3</th>\n",
       "      <td>1</td>\n",
       "      <td>model3</td>\n",
       "      <td>18</td>\n",
       "      <td>2015-01-01 09:00:00</td>\n",
       "      <td>162.462833</td>\n",
       "      <td>346.149335</td>\n",
       "      <td>109.248561</td>\n",
       "      <td>41.122144</td>\n",
       "      <td>No Failure</td>\n",
       "    </tr>\n",
       "    <tr>\n",
       "      <th>4</th>\n",
       "      <td>1</td>\n",
       "      <td>model3</td>\n",
       "      <td>18</td>\n",
       "      <td>2015-01-01 10:00:00</td>\n",
       "      <td>157.610021</td>\n",
       "      <td>435.376873</td>\n",
       "      <td>111.886648</td>\n",
       "      <td>25.990511</td>\n",
       "      <td>No Failure</td>\n",
       "    </tr>\n",
       "    <tr>\n",
       "      <th>...</th>\n",
       "      <td>...</td>\n",
       "      <td>...</td>\n",
       "      <td>...</td>\n",
       "      <td>...</td>\n",
       "      <td>...</td>\n",
       "      <td>...</td>\n",
       "      <td>...</td>\n",
       "      <td>...</td>\n",
       "      <td>...</td>\n",
       "    </tr>\n",
       "    <tr>\n",
       "      <th>876127</th>\n",
       "      <td>100</td>\n",
       "      <td>model4</td>\n",
       "      <td>5</td>\n",
       "      <td>2015-12-31 16:00:00</td>\n",
       "      <td>164.729171</td>\n",
       "      <td>448.894575</td>\n",
       "      <td>99.763131</td>\n",
       "      <td>43.916301</td>\n",
       "      <td>No Failure</td>\n",
       "    </tr>\n",
       "    <tr>\n",
       "      <th>876128</th>\n",
       "      <td>100</td>\n",
       "      <td>model4</td>\n",
       "      <td>5</td>\n",
       "      <td>2015-12-31 17:00:00</td>\n",
       "      <td>191.020128</td>\n",
       "      <td>537.789373</td>\n",
       "      <td>105.847232</td>\n",
       "      <td>45.791265</td>\n",
       "      <td>No Failure</td>\n",
       "    </tr>\n",
       "    <tr>\n",
       "      <th>876129</th>\n",
       "      <td>100</td>\n",
       "      <td>model4</td>\n",
       "      <td>5</td>\n",
       "      <td>2015-12-31 18:00:00</td>\n",
       "      <td>196.932834</td>\n",
       "      <td>360.053876</td>\n",
       "      <td>102.923230</td>\n",
       "      <td>30.398181</td>\n",
       "      <td>No Failure</td>\n",
       "    </tr>\n",
       "    <tr>\n",
       "      <th>876130</th>\n",
       "      <td>100</td>\n",
       "      <td>model4</td>\n",
       "      <td>5</td>\n",
       "      <td>2015-12-31 19:00:00</td>\n",
       "      <td>138.506098</td>\n",
       "      <td>497.861210</td>\n",
       "      <td>112.525039</td>\n",
       "      <td>34.867196</td>\n",
       "      <td>No Failure</td>\n",
       "    </tr>\n",
       "    <tr>\n",
       "      <th>876131</th>\n",
       "      <td>100</td>\n",
       "      <td>model4</td>\n",
       "      <td>5</td>\n",
       "      <td>2015-12-31 20:00:00</td>\n",
       "      <td>162.797904</td>\n",
       "      <td>415.378465</td>\n",
       "      <td>79.584958</td>\n",
       "      <td>27.457001</td>\n",
       "      <td>No Failure</td>\n",
       "    </tr>\n",
       "  </tbody>\n",
       "</table>\n",
       "<p>876132 rows × 9 columns</p>\n",
       "</div>"
      ],
      "text/plain": [
       "        machineID   model  age             datetime        volt      rotate  \\\n",
       "0               1  model3   18  2015-01-01 06:00:00  176.217853  418.504078   \n",
       "1               1  model3   18  2015-01-01 07:00:00  162.879223  402.747490   \n",
       "2               1  model3   18  2015-01-01 08:00:00  170.989902  527.349825   \n",
       "3               1  model3   18  2015-01-01 09:00:00  162.462833  346.149335   \n",
       "4               1  model3   18  2015-01-01 10:00:00  157.610021  435.376873   \n",
       "...           ...     ...  ...                  ...         ...         ...   \n",
       "876127        100  model4    5  2015-12-31 16:00:00  164.729171  448.894575   \n",
       "876128        100  model4    5  2015-12-31 17:00:00  191.020128  537.789373   \n",
       "876129        100  model4    5  2015-12-31 18:00:00  196.932834  360.053876   \n",
       "876130        100  model4    5  2015-12-31 19:00:00  138.506098  497.861210   \n",
       "876131        100  model4    5  2015-12-31 20:00:00  162.797904  415.378465   \n",
       "\n",
       "          pressure  vibration     failure  \n",
       "0       113.077935  45.087686  No Failure  \n",
       "1        95.460525  43.413973  No Failure  \n",
       "2        75.237905  34.178847  No Failure  \n",
       "3       109.248561  41.122144  No Failure  \n",
       "4       111.886648  25.990511  No Failure  \n",
       "...            ...        ...         ...  \n",
       "876127   99.763131  43.916301  No Failure  \n",
       "876128  105.847232  45.791265  No Failure  \n",
       "876129  102.923230  30.398181  No Failure  \n",
       "876130  112.525039  34.867196  No Failure  \n",
       "876131   79.584958  27.457001  No Failure  \n",
       "\n",
       "[876132 rows x 9 columns]"
      ]
     },
     "execution_count": 13,
     "metadata": {},
     "output_type": "execute_result"
    }
   ],
   "source": [
    "telemetry_with_failure_df = machine_info.merge(right=telemetry_with_failure_df, on=['machineID'], how='left')\n",
    "telemetry_with_failure_df.head(-10)"
   ]
  },
  {
   "cell_type": "code",
   "execution_count": 14,
   "metadata": {
    "colab": {
     "base_uri": "https://localhost:8080/"
    },
    "id": "v2tAGO_L_f-s",
    "outputId": "fa2b011a-53a5-4bd1-c4e3-28cdd098dbbe"
   },
   "outputs": [
    {
     "data": {
      "text/plain": [
       "model\n",
       "model3    306644\n",
       "model4    280363\n",
       "model2    148945\n",
       "model1    140190\n",
       "Name: count, dtype: int64"
      ]
     },
     "execution_count": 14,
     "metadata": {},
     "output_type": "execute_result"
    }
   ],
   "source": [
    "telemetry_with_failure_df['model'].value_counts()"
   ]
  },
  {
   "cell_type": "code",
   "execution_count": 15,
   "metadata": {
    "id": "HJ0YKQ6Q_iCm"
   },
   "outputs": [],
   "source": [
    "def strToDatetime(date_array, format):\n",
    "    new_datetime = list()\n",
    "    for date in date_array:\n",
    "        new_datetime.append(datetime.datetime.strptime(date, format))\n",
    "    return new_datetime"
   ]
  },
  {
   "cell_type": "code",
   "execution_count": 16,
   "metadata": {
    "id": "utCgRAVGAEms"
   },
   "outputs": [],
   "source": [
    "datetime_column = strToDatetime(telemetry_with_failure_df['datetime'], '%Y-%m-%d %H:%M:%S')"
   ]
  },
  {
   "cell_type": "code",
   "execution_count": 17,
   "metadata": {
    "id": "IiXODEtFAHnI"
   },
   "outputs": [],
   "source": [
    "telemetry_with_failure_df['datetime'] = datetime_column"
   ]
  },
  {
   "cell_type": "code",
   "execution_count": 18,
   "metadata": {
    "colab": {
     "base_uri": "https://localhost:8080/"
    },
    "id": "GOTSH1YaALBh",
    "outputId": "def3c155-b62d-49bc-b1d6-6254df7bb633"
   },
   "outputs": [
    {
     "data": {
      "text/plain": [
       "(Timestamp('2015-01-01 06:00:00'), Timestamp('2016-01-01 06:00:00'))"
      ]
     },
     "execution_count": 18,
     "metadata": {},
     "output_type": "execute_result"
    }
   ],
   "source": [
    "telemetry_with_failure_df['datetime'].min(), telemetry_with_failure_df['datetime'].max()"
   ]
  },
  {
   "cell_type": "code",
   "execution_count": 19,
   "metadata": {
    "colab": {
     "base_uri": "https://localhost:8080/"
    },
    "id": "YtXecxweAQHP",
    "outputId": "a9802ad3-64cd-4fe0-95e5-b99aaa03c29a"
   },
   "outputs": [
    {
     "data": {
      "text/plain": [
       "100"
      ]
     },
     "execution_count": 19,
     "metadata": {},
     "output_type": "execute_result"
    }
   ],
   "source": [
    "machine_ids = np.arange(1, 101)\n",
    "len(machine_ids)"
   ]
  },
  {
   "cell_type": "code",
   "execution_count": 20,
   "metadata": {
    "id": "ZdAfnTIvAS9_"
   },
   "outputs": [],
   "source": [
    "def hours_estimation(machine_id):\n",
    "    df = telemetry_with_failure_df[telemetry_with_failure_df['machineID'] == machine_id]\n",
    "    df.reset_index(drop=True, inplace=True)\n",
    "    rul = []\n",
    "    cont = len(df['failure']) - 1\n",
    "    diff = 0\n",
    "    while cont >= df.index.min():\n",
    "        if df['failure'][cont] == 'No Failure':\n",
    "            diff = diff + 1\n",
    "            rul.append(diff)\n",
    "        else:\n",
    "            rul.append(0)\n",
    "            diff = 0\n",
    "        diff = rul[-1]\n",
    "        cont = cont - 1\n",
    "    df['hours_to_fail'] = list(reversed(rul))\n",
    "    return df"
   ]
  },
  {
   "cell_type": "code",
   "execution_count": 21,
   "metadata": {
    "id": "GziLAal-AVlB"
   },
   "outputs": [],
   "source": [
    "dfs = []\n",
    "for machine_id in machine_ids:\n",
    "    df = hours_estimation(machine_id)\n",
    "    dfs.append(df)"
   ]
  },
  {
   "cell_type": "code",
   "execution_count": 22,
   "metadata": {
    "id": "90P5oFEjAYcQ"
   },
   "outputs": [],
   "source": [
    "telemetry = pd.DataFrame()\n",
    "for df in dfs:\n",
    "    telemetry = pd.concat([telemetry, df], axis=0)"
   ]
  },
  {
   "cell_type": "code",
   "execution_count": 23,
   "metadata": {
    "colab": {
     "base_uri": "https://localhost:8080/"
    },
    "id": "JHTLoi5PAbGB",
    "outputId": "c086b575-29ef-4f0e-ca07-4f0230709c57"
   },
   "outputs": [
    {
     "name": "stdout",
     "output_type": "stream",
     "text": [
      "876142 876142\n"
     ]
    }
   ],
   "source": [
    "print(telemetry.shape[0], telemetry_with_failure_df.shape[0])"
   ]
  },
  {
   "cell_type": "code",
   "execution_count": 24,
   "metadata": {
    "colab": {
     "base_uri": "https://localhost:8080/",
     "height": 206
    },
    "id": "6lG2YzLKAfIg",
    "outputId": "81c77a6f-4626-4a77-f0c5-23b93dc0bcac"
   },
   "outputs": [
    {
     "data": {
      "text/html": [
       "<div>\n",
       "<style scoped>\n",
       "    .dataframe tbody tr th:only-of-type {\n",
       "        vertical-align: middle;\n",
       "    }\n",
       "\n",
       "    .dataframe tbody tr th {\n",
       "        vertical-align: top;\n",
       "    }\n",
       "\n",
       "    .dataframe thead th {\n",
       "        text-align: right;\n",
       "    }\n",
       "</style>\n",
       "<table border=\"1\" class=\"dataframe\">\n",
       "  <thead>\n",
       "    <tr style=\"text-align: right;\">\n",
       "      <th></th>\n",
       "      <th>machineID</th>\n",
       "      <th>model</th>\n",
       "      <th>age</th>\n",
       "      <th>datetime</th>\n",
       "      <th>volt</th>\n",
       "      <th>rotate</th>\n",
       "      <th>pressure</th>\n",
       "      <th>vibration</th>\n",
       "      <th>failure</th>\n",
       "      <th>seconds_to_fail</th>\n",
       "    </tr>\n",
       "  </thead>\n",
       "  <tbody>\n",
       "    <tr>\n",
       "      <th>0</th>\n",
       "      <td>1</td>\n",
       "      <td>model3</td>\n",
       "      <td>18</td>\n",
       "      <td>2015-01-01 06:00:00</td>\n",
       "      <td>176.217853</td>\n",
       "      <td>418.504078</td>\n",
       "      <td>113.077935</td>\n",
       "      <td>45.087686</td>\n",
       "      <td>No Failure</td>\n",
       "      <td>345600</td>\n",
       "    </tr>\n",
       "    <tr>\n",
       "      <th>1</th>\n",
       "      <td>1</td>\n",
       "      <td>model3</td>\n",
       "      <td>18</td>\n",
       "      <td>2015-01-01 07:00:00</td>\n",
       "      <td>162.879223</td>\n",
       "      <td>402.747490</td>\n",
       "      <td>95.460525</td>\n",
       "      <td>43.413973</td>\n",
       "      <td>No Failure</td>\n",
       "      <td>342000</td>\n",
       "    </tr>\n",
       "    <tr>\n",
       "      <th>2</th>\n",
       "      <td>1</td>\n",
       "      <td>model3</td>\n",
       "      <td>18</td>\n",
       "      <td>2015-01-01 08:00:00</td>\n",
       "      <td>170.989902</td>\n",
       "      <td>527.349825</td>\n",
       "      <td>75.237905</td>\n",
       "      <td>34.178847</td>\n",
       "      <td>No Failure</td>\n",
       "      <td>338400</td>\n",
       "    </tr>\n",
       "    <tr>\n",
       "      <th>3</th>\n",
       "      <td>1</td>\n",
       "      <td>model3</td>\n",
       "      <td>18</td>\n",
       "      <td>2015-01-01 09:00:00</td>\n",
       "      <td>162.462833</td>\n",
       "      <td>346.149335</td>\n",
       "      <td>109.248561</td>\n",
       "      <td>41.122144</td>\n",
       "      <td>No Failure</td>\n",
       "      <td>334800</td>\n",
       "    </tr>\n",
       "    <tr>\n",
       "      <th>4</th>\n",
       "      <td>1</td>\n",
       "      <td>model3</td>\n",
       "      <td>18</td>\n",
       "      <td>2015-01-01 10:00:00</td>\n",
       "      <td>157.610021</td>\n",
       "      <td>435.376873</td>\n",
       "      <td>111.886648</td>\n",
       "      <td>25.990511</td>\n",
       "      <td>No Failure</td>\n",
       "      <td>331200</td>\n",
       "    </tr>\n",
       "  </tbody>\n",
       "</table>\n",
       "</div>"
      ],
      "text/plain": [
       "   machineID   model  age            datetime        volt      rotate  \\\n",
       "0          1  model3   18 2015-01-01 06:00:00  176.217853  418.504078   \n",
       "1          1  model3   18 2015-01-01 07:00:00  162.879223  402.747490   \n",
       "2          1  model3   18 2015-01-01 08:00:00  170.989902  527.349825   \n",
       "3          1  model3   18 2015-01-01 09:00:00  162.462833  346.149335   \n",
       "4          1  model3   18 2015-01-01 10:00:00  157.610021  435.376873   \n",
       "\n",
       "     pressure  vibration     failure  seconds_to_fail  \n",
       "0  113.077935  45.087686  No Failure           345600  \n",
       "1   95.460525  43.413973  No Failure           342000  \n",
       "2   75.237905  34.178847  No Failure           338400  \n",
       "3  109.248561  41.122144  No Failure           334800  \n",
       "4  111.886648  25.990511  No Failure           331200  "
      ]
     },
     "execution_count": 24,
     "metadata": {},
     "output_type": "execute_result"
    }
   ],
   "source": [
    "telemetry['seconds_to_fail'] = telemetry['hours_to_fail'] * 3600\n",
    "telemetry.drop('hours_to_fail', axis=1, inplace=True)\n",
    "telemetry.head()"
   ]
  },
  {
   "cell_type": "code",
   "execution_count": 25,
   "metadata": {
    "colab": {
     "base_uri": "https://localhost:8080/",
     "height": 851
    },
    "id": "B1JIuHPsAhsx",
    "outputId": "0939cd70-fb02-4b30-aacc-1993f03f584b"
   },
   "outputs": [],
   "source": [
    "# sns.heatmap(telemetry.corr(), annot=True).figure.set_size_inches(12, 9)"
   ]
  },
  {
   "cell_type": "code",
   "execution_count": 26,
   "metadata": {
    "colab": {
     "base_uri": "https://localhost:8080/"
    },
    "id": "bzkU4uUcAo56",
    "outputId": "29fe5e52-e7ec-4cd8-8c0c-61c687fd9fb6"
   },
   "outputs": [
    {
     "data": {
      "text/plain": [
       "Index(['machineID', 'model', 'age', 'datetime', 'volt', 'rotate', 'pressure',\n",
       "       'vibration', 'failure', 'seconds_to_fail'],\n",
       "      dtype='object')"
      ]
     },
     "execution_count": 26,
     "metadata": {},
     "output_type": "execute_result"
    }
   ],
   "source": [
    "telemetry.columns"
   ]
  },
  {
   "cell_type": "code",
   "execution_count": 27,
   "metadata": {
    "colab": {
     "base_uri": "https://localhost:8080/"
    },
    "id": "3yn6BkP8ArAw",
    "outputId": "540adae8-4fe6-4562-bad3-009bbf219a6e"
   },
   "outputs": [
    {
     "data": {
      "text/plain": [
       "(876142, 876142)"
      ]
     },
     "execution_count": 27,
     "metadata": {},
     "output_type": "execute_result"
    }
   ],
   "source": [
    "datetimes = telemetry['datetime']\n",
    "timestamps = list()\n",
    "for datetime_ in datetimes:\n",
    "    timestamps.append(datetime.datetime.timestamp(datetime_))    \n",
    "datetimes.shape[0], len(timestamps)"
   ]
  },
  {
   "cell_type": "code",
   "execution_count": 28,
   "metadata": {
    "colab": {
     "base_uri": "https://localhost:8080/",
     "height": 424
    },
    "id": "xZhqvCxQAtUt",
    "outputId": "b3be12cc-e093-487b-b57c-e6f20aa6151b"
   },
   "outputs": [
    {
     "data": {
      "text/html": [
       "<div>\n",
       "<style scoped>\n",
       "    .dataframe tbody tr th:only-of-type {\n",
       "        vertical-align: middle;\n",
       "    }\n",
       "\n",
       "    .dataframe tbody tr th {\n",
       "        vertical-align: top;\n",
       "    }\n",
       "\n",
       "    .dataframe thead th {\n",
       "        text-align: right;\n",
       "    }\n",
       "</style>\n",
       "<table border=\"1\" class=\"dataframe\">\n",
       "  <thead>\n",
       "    <tr style=\"text-align: right;\">\n",
       "      <th></th>\n",
       "      <th>machineID</th>\n",
       "      <th>model</th>\n",
       "      <th>age</th>\n",
       "      <th>datetime</th>\n",
       "      <th>volt</th>\n",
       "      <th>rotate</th>\n",
       "      <th>pressure</th>\n",
       "      <th>vibration</th>\n",
       "      <th>failure</th>\n",
       "      <th>seconds_to_fail</th>\n",
       "      <th>timestamp</th>\n",
       "    </tr>\n",
       "  </thead>\n",
       "  <tbody>\n",
       "    <tr>\n",
       "      <th>0</th>\n",
       "      <td>1</td>\n",
       "      <td>model3</td>\n",
       "      <td>18</td>\n",
       "      <td>2015-01-01 06:00:00</td>\n",
       "      <td>176.217853</td>\n",
       "      <td>418.504078</td>\n",
       "      <td>113.077935</td>\n",
       "      <td>45.087686</td>\n",
       "      <td>No Failure</td>\n",
       "      <td>345600</td>\n",
       "      <td>1.420072e+09</td>\n",
       "    </tr>\n",
       "    <tr>\n",
       "      <th>1</th>\n",
       "      <td>1</td>\n",
       "      <td>model3</td>\n",
       "      <td>18</td>\n",
       "      <td>2015-01-01 07:00:00</td>\n",
       "      <td>162.879223</td>\n",
       "      <td>402.747490</td>\n",
       "      <td>95.460525</td>\n",
       "      <td>43.413973</td>\n",
       "      <td>No Failure</td>\n",
       "      <td>342000</td>\n",
       "      <td>1.420076e+09</td>\n",
       "    </tr>\n",
       "    <tr>\n",
       "      <th>2</th>\n",
       "      <td>1</td>\n",
       "      <td>model3</td>\n",
       "      <td>18</td>\n",
       "      <td>2015-01-01 08:00:00</td>\n",
       "      <td>170.989902</td>\n",
       "      <td>527.349825</td>\n",
       "      <td>75.237905</td>\n",
       "      <td>34.178847</td>\n",
       "      <td>No Failure</td>\n",
       "      <td>338400</td>\n",
       "      <td>1.420079e+09</td>\n",
       "    </tr>\n",
       "    <tr>\n",
       "      <th>3</th>\n",
       "      <td>1</td>\n",
       "      <td>model3</td>\n",
       "      <td>18</td>\n",
       "      <td>2015-01-01 09:00:00</td>\n",
       "      <td>162.462833</td>\n",
       "      <td>346.149335</td>\n",
       "      <td>109.248561</td>\n",
       "      <td>41.122144</td>\n",
       "      <td>No Failure</td>\n",
       "      <td>334800</td>\n",
       "      <td>1.420083e+09</td>\n",
       "    </tr>\n",
       "    <tr>\n",
       "      <th>4</th>\n",
       "      <td>1</td>\n",
       "      <td>model3</td>\n",
       "      <td>18</td>\n",
       "      <td>2015-01-01 10:00:00</td>\n",
       "      <td>157.610021</td>\n",
       "      <td>435.376873</td>\n",
       "      <td>111.886648</td>\n",
       "      <td>25.990511</td>\n",
       "      <td>No Failure</td>\n",
       "      <td>331200</td>\n",
       "      <td>1.420087e+09</td>\n",
       "    </tr>\n",
       "    <tr>\n",
       "      <th>...</th>\n",
       "      <td>...</td>\n",
       "      <td>...</td>\n",
       "      <td>...</td>\n",
       "      <td>...</td>\n",
       "      <td>...</td>\n",
       "      <td>...</td>\n",
       "      <td>...</td>\n",
       "      <td>...</td>\n",
       "      <td>...</td>\n",
       "      <td>...</td>\n",
       "      <td>...</td>\n",
       "    </tr>\n",
       "    <tr>\n",
       "      <th>8756</th>\n",
       "      <td>100</td>\n",
       "      <td>model4</td>\n",
       "      <td>5</td>\n",
       "      <td>2016-01-01 02:00:00</td>\n",
       "      <td>179.438162</td>\n",
       "      <td>395.222827</td>\n",
       "      <td>102.290715</td>\n",
       "      <td>50.771941</td>\n",
       "      <td>No Failure</td>\n",
       "      <td>18000</td>\n",
       "      <td>1.451594e+09</td>\n",
       "    </tr>\n",
       "    <tr>\n",
       "      <th>8757</th>\n",
       "      <td>100</td>\n",
       "      <td>model4</td>\n",
       "      <td>5</td>\n",
       "      <td>2016-01-01 03:00:00</td>\n",
       "      <td>189.617555</td>\n",
       "      <td>446.207972</td>\n",
       "      <td>98.180607</td>\n",
       "      <td>35.123072</td>\n",
       "      <td>No Failure</td>\n",
       "      <td>14400</td>\n",
       "      <td>1.451597e+09</td>\n",
       "    </tr>\n",
       "    <tr>\n",
       "      <th>8758</th>\n",
       "      <td>100</td>\n",
       "      <td>model4</td>\n",
       "      <td>5</td>\n",
       "      <td>2016-01-01 04:00:00</td>\n",
       "      <td>192.483414</td>\n",
       "      <td>447.816524</td>\n",
       "      <td>94.132837</td>\n",
       "      <td>48.314561</td>\n",
       "      <td>No Failure</td>\n",
       "      <td>10800</td>\n",
       "      <td>1.451601e+09</td>\n",
       "    </tr>\n",
       "    <tr>\n",
       "      <th>8759</th>\n",
       "      <td>100</td>\n",
       "      <td>model4</td>\n",
       "      <td>5</td>\n",
       "      <td>2016-01-01 05:00:00</td>\n",
       "      <td>165.475310</td>\n",
       "      <td>413.771670</td>\n",
       "      <td>104.081073</td>\n",
       "      <td>44.835259</td>\n",
       "      <td>No Failure</td>\n",
       "      <td>7200</td>\n",
       "      <td>1.451605e+09</td>\n",
       "    </tr>\n",
       "    <tr>\n",
       "      <th>8760</th>\n",
       "      <td>100</td>\n",
       "      <td>model4</td>\n",
       "      <td>5</td>\n",
       "      <td>2016-01-01 06:00:00</td>\n",
       "      <td>171.336037</td>\n",
       "      <td>496.096870</td>\n",
       "      <td>79.095538</td>\n",
       "      <td>37.845245</td>\n",
       "      <td>No Failure</td>\n",
       "      <td>3600</td>\n",
       "      <td>1.451608e+09</td>\n",
       "    </tr>\n",
       "  </tbody>\n",
       "</table>\n",
       "<p>876142 rows × 11 columns</p>\n",
       "</div>"
      ],
      "text/plain": [
       "      machineID   model  age            datetime        volt      rotate  \\\n",
       "0             1  model3   18 2015-01-01 06:00:00  176.217853  418.504078   \n",
       "1             1  model3   18 2015-01-01 07:00:00  162.879223  402.747490   \n",
       "2             1  model3   18 2015-01-01 08:00:00  170.989902  527.349825   \n",
       "3             1  model3   18 2015-01-01 09:00:00  162.462833  346.149335   \n",
       "4             1  model3   18 2015-01-01 10:00:00  157.610021  435.376873   \n",
       "...         ...     ...  ...                 ...         ...         ...   \n",
       "8756        100  model4    5 2016-01-01 02:00:00  179.438162  395.222827   \n",
       "8757        100  model4    5 2016-01-01 03:00:00  189.617555  446.207972   \n",
       "8758        100  model4    5 2016-01-01 04:00:00  192.483414  447.816524   \n",
       "8759        100  model4    5 2016-01-01 05:00:00  165.475310  413.771670   \n",
       "8760        100  model4    5 2016-01-01 06:00:00  171.336037  496.096870   \n",
       "\n",
       "        pressure  vibration     failure  seconds_to_fail     timestamp  \n",
       "0     113.077935  45.087686  No Failure           345600  1.420072e+09  \n",
       "1      95.460525  43.413973  No Failure           342000  1.420076e+09  \n",
       "2      75.237905  34.178847  No Failure           338400  1.420079e+09  \n",
       "3     109.248561  41.122144  No Failure           334800  1.420083e+09  \n",
       "4     111.886648  25.990511  No Failure           331200  1.420087e+09  \n",
       "...          ...        ...         ...              ...           ...  \n",
       "8756  102.290715  50.771941  No Failure            18000  1.451594e+09  \n",
       "8757   98.180607  35.123072  No Failure            14400  1.451597e+09  \n",
       "8758   94.132837  48.314561  No Failure            10800  1.451601e+09  \n",
       "8759  104.081073  44.835259  No Failure             7200  1.451605e+09  \n",
       "8760   79.095538  37.845245  No Failure             3600  1.451608e+09  \n",
       "\n",
       "[876142 rows x 11 columns]"
      ]
     },
     "execution_count": 28,
     "metadata": {},
     "output_type": "execute_result"
    }
   ],
   "source": [
    "telemetry['timestamp'] = timestamps\n",
    "#telemetry.drop('datetime', axis=1, inplace=True)\n",
    "#telemetry = telemetry[['timestamp', 'machineID', 'model', 'age', 'volt', 'rotate', 'pressure', 'vibration', 'failure', 'seconds_to_fail']]\n",
    "telemetry"
   ]
  },
  {
   "cell_type": "code",
   "execution_count": 29,
   "metadata": {
    "colab": {
     "base_uri": "https://localhost:8080/",
     "height": 788
    },
    "id": "K-BBq1heAwUL",
    "outputId": "2f00c639-dbf6-4cf2-e2d5-55f87fd5ba27"
   },
   "outputs": [
    {
     "data": {
      "image/png": "[encoded data removed]",
      "text/plain": [
       "<Figure size 1200x900 with 1 Axes>"
      ]
     },
     "metadata": {},
     "output_type": "display_data"
    }
   ],
   "source": [
    "sns.boxplot(x=telemetry['model'], y=telemetry['seconds_to_fail'], order=['model1', 'model2', 'model3', 'model4']).figure.set_size_inches(12, 9)"
   ]
  },
  {
   "cell_type": "code",
   "execution_count": 30,
   "metadata": {
    "colab": {
     "base_uri": "https://localhost:8080/"
    },
    "id": "6oIUT7B9A3wC",
    "outputId": "e8a36f38-20cb-4027-e810-439a834e9ef1"
   },
   "outputs": [
    {
     "data": {
      "text/plain": [
       "model\n",
       "model3    306644\n",
       "model4    280363\n",
       "model2    148945\n",
       "model1    140190\n",
       "Name: count, dtype: int64"
      ]
     },
     "execution_count": 30,
     "metadata": {},
     "output_type": "execute_result"
    }
   ],
   "source": [
    "telemetry['model'].value_counts()"
   ]
  },
  {
   "cell_type": "markdown",
   "metadata": {},
   "source": [
    "##Make change for model here "
   ]
  },
  {
   "cell_type": "code",
   "execution_count": 31,
   "metadata": {
    "colab": {
     "base_uri": "https://localhost:8080/",
     "height": 424
    },
    "id": "l4sAY2uoA9xZ",
    "outputId": "71ac9cfc-12a6-43bb-8647-94eeb60e3df6"
   },
   "outputs": [
    {
     "data": {
      "text/html": [
       "<div>\n",
       "<style scoped>\n",
       "    .dataframe tbody tr th:only-of-type {\n",
       "        vertical-align: middle;\n",
       "    }\n",
       "\n",
       "    .dataframe tbody tr th {\n",
       "        vertical-align: top;\n",
       "    }\n",
       "\n",
       "    .dataframe thead th {\n",
       "        text-align: right;\n",
       "    }\n",
       "</style>\n",
       "<table border=\"1\" class=\"dataframe\">\n",
       "  <thead>\n",
       "    <tr style=\"text-align: right;\">\n",
       "      <th></th>\n",
       "      <th>machineID</th>\n",
       "      <th>model</th>\n",
       "      <th>age</th>\n",
       "      <th>datetime</th>\n",
       "      <th>volt</th>\n",
       "      <th>rotate</th>\n",
       "      <th>pressure</th>\n",
       "      <th>vibration</th>\n",
       "      <th>failure</th>\n",
       "      <th>seconds_to_fail</th>\n",
       "      <th>timestamp</th>\n",
       "    </tr>\n",
       "  </thead>\n",
       "  <tbody>\n",
       "    <tr>\n",
       "      <th>0</th>\n",
       "      <td>1</td>\n",
       "      <td>model3</td>\n",
       "      <td>18</td>\n",
       "      <td>2015-01-01 06:00:00</td>\n",
       "      <td>176.217853</td>\n",
       "      <td>418.504078</td>\n",
       "      <td>113.077935</td>\n",
       "      <td>45.087686</td>\n",
       "      <td>No Failure</td>\n",
       "      <td>345600</td>\n",
       "      <td>1.420072e+09</td>\n",
       "    </tr>\n",
       "    <tr>\n",
       "      <th>1</th>\n",
       "      <td>1</td>\n",
       "      <td>model3</td>\n",
       "      <td>18</td>\n",
       "      <td>2015-01-01 07:00:00</td>\n",
       "      <td>162.879223</td>\n",
       "      <td>402.747490</td>\n",
       "      <td>95.460525</td>\n",
       "      <td>43.413973</td>\n",
       "      <td>No Failure</td>\n",
       "      <td>342000</td>\n",
       "      <td>1.420076e+09</td>\n",
       "    </tr>\n",
       "    <tr>\n",
       "      <th>2</th>\n",
       "      <td>1</td>\n",
       "      <td>model3</td>\n",
       "      <td>18</td>\n",
       "      <td>2015-01-01 08:00:00</td>\n",
       "      <td>170.989902</td>\n",
       "      <td>527.349825</td>\n",
       "      <td>75.237905</td>\n",
       "      <td>34.178847</td>\n",
       "      <td>No Failure</td>\n",
       "      <td>338400</td>\n",
       "      <td>1.420079e+09</td>\n",
       "    </tr>\n",
       "    <tr>\n",
       "      <th>3</th>\n",
       "      <td>1</td>\n",
       "      <td>model3</td>\n",
       "      <td>18</td>\n",
       "      <td>2015-01-01 09:00:00</td>\n",
       "      <td>162.462833</td>\n",
       "      <td>346.149335</td>\n",
       "      <td>109.248561</td>\n",
       "      <td>41.122144</td>\n",
       "      <td>No Failure</td>\n",
       "      <td>334800</td>\n",
       "      <td>1.420083e+09</td>\n",
       "    </tr>\n",
       "    <tr>\n",
       "      <th>4</th>\n",
       "      <td>1</td>\n",
       "      <td>model3</td>\n",
       "      <td>18</td>\n",
       "      <td>2015-01-01 10:00:00</td>\n",
       "      <td>157.610021</td>\n",
       "      <td>435.376873</td>\n",
       "      <td>111.886648</td>\n",
       "      <td>25.990511</td>\n",
       "      <td>No Failure</td>\n",
       "      <td>331200</td>\n",
       "      <td>1.420087e+09</td>\n",
       "    </tr>\n",
       "    <tr>\n",
       "      <th>...</th>\n",
       "      <td>...</td>\n",
       "      <td>...</td>\n",
       "      <td>...</td>\n",
       "      <td>...</td>\n",
       "      <td>...</td>\n",
       "      <td>...</td>\n",
       "      <td>...</td>\n",
       "      <td>...</td>\n",
       "      <td>...</td>\n",
       "      <td>...</td>\n",
       "      <td>...</td>\n",
       "    </tr>\n",
       "    <tr>\n",
       "      <th>306639</th>\n",
       "      <td>93</td>\n",
       "      <td>model3</td>\n",
       "      <td>18</td>\n",
       "      <td>2016-01-01 02:00:00</td>\n",
       "      <td>202.858467</td>\n",
       "      <td>412.870855</td>\n",
       "      <td>85.569847</td>\n",
       "      <td>47.701614</td>\n",
       "      <td>No Failure</td>\n",
       "      <td>18000</td>\n",
       "      <td>1.451594e+09</td>\n",
       "    </tr>\n",
       "    <tr>\n",
       "      <th>306640</th>\n",
       "      <td>93</td>\n",
       "      <td>model3</td>\n",
       "      <td>18</td>\n",
       "      <td>2016-01-01 03:00:00</td>\n",
       "      <td>171.364527</td>\n",
       "      <td>459.880473</td>\n",
       "      <td>94.316793</td>\n",
       "      <td>47.592136</td>\n",
       "      <td>No Failure</td>\n",
       "      <td>14400</td>\n",
       "      <td>1.451597e+09</td>\n",
       "    </tr>\n",
       "    <tr>\n",
       "      <th>306641</th>\n",
       "      <td>93</td>\n",
       "      <td>model3</td>\n",
       "      <td>18</td>\n",
       "      <td>2016-01-01 04:00:00</td>\n",
       "      <td>182.867119</td>\n",
       "      <td>491.584480</td>\n",
       "      <td>90.332643</td>\n",
       "      <td>58.592710</td>\n",
       "      <td>No Failure</td>\n",
       "      <td>10800</td>\n",
       "      <td>1.451601e+09</td>\n",
       "    </tr>\n",
       "    <tr>\n",
       "      <th>306642</th>\n",
       "      <td>93</td>\n",
       "      <td>model3</td>\n",
       "      <td>18</td>\n",
       "      <td>2016-01-01 05:00:00</td>\n",
       "      <td>166.943545</td>\n",
       "      <td>352.047138</td>\n",
       "      <td>82.068954</td>\n",
       "      <td>46.256361</td>\n",
       "      <td>No Failure</td>\n",
       "      <td>7200</td>\n",
       "      <td>1.451605e+09</td>\n",
       "    </tr>\n",
       "    <tr>\n",
       "      <th>306643</th>\n",
       "      <td>93</td>\n",
       "      <td>model3</td>\n",
       "      <td>18</td>\n",
       "      <td>2016-01-01 06:00:00</td>\n",
       "      <td>186.324464</td>\n",
       "      <td>459.337856</td>\n",
       "      <td>114.542401</td>\n",
       "      <td>48.191245</td>\n",
       "      <td>No Failure</td>\n",
       "      <td>3600</td>\n",
       "      <td>1.451608e+09</td>\n",
       "    </tr>\n",
       "  </tbody>\n",
       "</table>\n",
       "<p>306644 rows × 11 columns</p>\n",
       "</div>"
      ],
      "text/plain": [
       "        machineID   model  age            datetime        volt      rotate  \\\n",
       "0               1  model3   18 2015-01-01 06:00:00  176.217853  418.504078   \n",
       "1               1  model3   18 2015-01-01 07:00:00  162.879223  402.747490   \n",
       "2               1  model3   18 2015-01-01 08:00:00  170.989902  527.349825   \n",
       "3               1  model3   18 2015-01-01 09:00:00  162.462833  346.149335   \n",
       "4               1  model3   18 2015-01-01 10:00:00  157.610021  435.376873   \n",
       "...           ...     ...  ...                 ...         ...         ...   \n",
       "306639         93  model3   18 2016-01-01 02:00:00  202.858467  412.870855   \n",
       "306640         93  model3   18 2016-01-01 03:00:00  171.364527  459.880473   \n",
       "306641         93  model3   18 2016-01-01 04:00:00  182.867119  491.584480   \n",
       "306642         93  model3   18 2016-01-01 05:00:00  166.943545  352.047138   \n",
       "306643         93  model3   18 2016-01-01 06:00:00  186.324464  459.337856   \n",
       "\n",
       "          pressure  vibration     failure  seconds_to_fail     timestamp  \n",
       "0       113.077935  45.087686  No Failure           345600  1.420072e+09  \n",
       "1        95.460525  43.413973  No Failure           342000  1.420076e+09  \n",
       "2        75.237905  34.178847  No Failure           338400  1.420079e+09  \n",
       "3       109.248561  41.122144  No Failure           334800  1.420083e+09  \n",
       "4       111.886648  25.990511  No Failure           331200  1.420087e+09  \n",
       "...            ...        ...         ...              ...           ...  \n",
       "306639   85.569847  47.701614  No Failure            18000  1.451594e+09  \n",
       "306640   94.316793  47.592136  No Failure            14400  1.451597e+09  \n",
       "306641   90.332643  58.592710  No Failure            10800  1.451601e+09  \n",
       "306642   82.068954  46.256361  No Failure             7200  1.451605e+09  \n",
       "306643  114.542401  48.191245  No Failure             3600  1.451608e+09  \n",
       "\n",
       "[306644 rows x 11 columns]"
      ]
     },
     "execution_count": 31,
     "metadata": {},
     "output_type": "execute_result"
    }
   ],
   "source": [
    "model3_data = telemetry[telemetry['model'] == 'model3'].reset_index(drop=True)\n",
    "model3_data"
   ]
  },
  {
   "cell_type": "code",
   "execution_count": 32,
   "metadata": {
    "id": "Ii_RyemBBBtB"
   },
   "outputs": [],
   "source": [
    "def create_time_step(data, machine_id):\n",
    "    machine_id_data = data[data['machineID'] == machine_id]\n",
    "    time_step = np.arange(1, machine_id_data.shape[0]+1)\n",
    "    machine_id_data['time_step'] = time_step\n",
    "    return machine_id_data"
   ]
  },
  {
   "cell_type": "code",
   "execution_count": 33,
   "metadata": {
    "colab": {
     "base_uri": "https://localhost:8080/"
    },
    "id": "9xiOqP-0BFyF",
    "outputId": "6d8ed8e5-843d-4534-8237-ebda430288bd"
   },
   "outputs": [
    {
     "data": {
      "text/plain": [
       "35"
      ]
     },
     "execution_count": 33,
     "metadata": {},
     "output_type": "execute_result"
    }
   ],
   "source": [
    "machineIDs = model3_data['machineID'].unique()\n",
    "dataframes_with_time_step = []\n",
    "for machine_id in machineIDs:\n",
    "    dataframes_with_time_step.append(create_time_step(model3_data, machine_id))\n",
    "len(dataframes_with_time_step)"
   ]
  },
  {
   "cell_type": "code",
   "execution_count": 34,
   "metadata": {
    "id": "72kU4J_YBKJi"
   },
   "outputs": [],
   "source": [
    "model3_data = pd.DataFrame()\n",
    "for df in dataframes_with_time_step:\n",
    "    model3_data = pd.concat([model3_data, df])"
   ]
  },
  {
   "cell_type": "code",
   "execution_count": 35,
   "metadata": {
    "colab": {
     "base_uri": "https://localhost:8080/",
     "height": 424
    },
    "id": "6BO0KTicBMka",
    "outputId": "dfb0ff21-1603-4040-ec10-bd1e22c1becf"
   },
   "outputs": [
    {
     "data": {
      "text/html": [
       "<div>\n",
       "<style scoped>\n",
       "    .dataframe tbody tr th:only-of-type {\n",
       "        vertical-align: middle;\n",
       "    }\n",
       "\n",
       "    .dataframe tbody tr th {\n",
       "        vertical-align: top;\n",
       "    }\n",
       "\n",
       "    .dataframe thead th {\n",
       "        text-align: right;\n",
       "    }\n",
       "</style>\n",
       "<table border=\"1\" class=\"dataframe\">\n",
       "  <thead>\n",
       "    <tr style=\"text-align: right;\">\n",
       "      <th></th>\n",
       "      <th>age</th>\n",
       "      <th>volt</th>\n",
       "      <th>rotate</th>\n",
       "      <th>pressure</th>\n",
       "      <th>vibration</th>\n",
       "      <th>seconds_to_fail</th>\n",
       "      <th>time_step</th>\n",
       "    </tr>\n",
       "  </thead>\n",
       "  <tbody>\n",
       "    <tr>\n",
       "      <th>0</th>\n",
       "      <td>18</td>\n",
       "      <td>176.217853</td>\n",
       "      <td>418.504078</td>\n",
       "      <td>113.077935</td>\n",
       "      <td>45.087686</td>\n",
       "      <td>345600</td>\n",
       "      <td>1</td>\n",
       "    </tr>\n",
       "    <tr>\n",
       "      <th>1</th>\n",
       "      <td>18</td>\n",
       "      <td>162.879223</td>\n",
       "      <td>402.747490</td>\n",
       "      <td>95.460525</td>\n",
       "      <td>43.413973</td>\n",
       "      <td>342000</td>\n",
       "      <td>2</td>\n",
       "    </tr>\n",
       "    <tr>\n",
       "      <th>2</th>\n",
       "      <td>18</td>\n",
       "      <td>170.989902</td>\n",
       "      <td>527.349825</td>\n",
       "      <td>75.237905</td>\n",
       "      <td>34.178847</td>\n",
       "      <td>338400</td>\n",
       "      <td>3</td>\n",
       "    </tr>\n",
       "    <tr>\n",
       "      <th>3</th>\n",
       "      <td>18</td>\n",
       "      <td>162.462833</td>\n",
       "      <td>346.149335</td>\n",
       "      <td>109.248561</td>\n",
       "      <td>41.122144</td>\n",
       "      <td>334800</td>\n",
       "      <td>4</td>\n",
       "    </tr>\n",
       "    <tr>\n",
       "      <th>4</th>\n",
       "      <td>18</td>\n",
       "      <td>157.610021</td>\n",
       "      <td>435.376873</td>\n",
       "      <td>111.886648</td>\n",
       "      <td>25.990511</td>\n",
       "      <td>331200</td>\n",
       "      <td>5</td>\n",
       "    </tr>\n",
       "    <tr>\n",
       "      <th>...</th>\n",
       "      <td>...</td>\n",
       "      <td>...</td>\n",
       "      <td>...</td>\n",
       "      <td>...</td>\n",
       "      <td>...</td>\n",
       "      <td>...</td>\n",
       "      <td>...</td>\n",
       "    </tr>\n",
       "    <tr>\n",
       "      <th>306639</th>\n",
       "      <td>18</td>\n",
       "      <td>202.858467</td>\n",
       "      <td>412.870855</td>\n",
       "      <td>85.569847</td>\n",
       "      <td>47.701614</td>\n",
       "      <td>18000</td>\n",
       "      <td>8757</td>\n",
       "    </tr>\n",
       "    <tr>\n",
       "      <th>306640</th>\n",
       "      <td>18</td>\n",
       "      <td>171.364527</td>\n",
       "      <td>459.880473</td>\n",
       "      <td>94.316793</td>\n",
       "      <td>47.592136</td>\n",
       "      <td>14400</td>\n",
       "      <td>8758</td>\n",
       "    </tr>\n",
       "    <tr>\n",
       "      <th>306641</th>\n",
       "      <td>18</td>\n",
       "      <td>182.867119</td>\n",
       "      <td>491.584480</td>\n",
       "      <td>90.332643</td>\n",
       "      <td>58.592710</td>\n",
       "      <td>10800</td>\n",
       "      <td>8759</td>\n",
       "    </tr>\n",
       "    <tr>\n",
       "      <th>306642</th>\n",
       "      <td>18</td>\n",
       "      <td>166.943545</td>\n",
       "      <td>352.047138</td>\n",
       "      <td>82.068954</td>\n",
       "      <td>46.256361</td>\n",
       "      <td>7200</td>\n",
       "      <td>8760</td>\n",
       "    </tr>\n",
       "    <tr>\n",
       "      <th>306643</th>\n",
       "      <td>18</td>\n",
       "      <td>186.324464</td>\n",
       "      <td>459.337856</td>\n",
       "      <td>114.542401</td>\n",
       "      <td>48.191245</td>\n",
       "      <td>3600</td>\n",
       "      <td>8761</td>\n",
       "    </tr>\n",
       "  </tbody>\n",
       "</table>\n",
       "<p>306644 rows × 7 columns</p>\n",
       "</div>"
      ],
      "text/plain": [
       "        age        volt      rotate    pressure  vibration  seconds_to_fail  \\\n",
       "0        18  176.217853  418.504078  113.077935  45.087686           345600   \n",
       "1        18  162.879223  402.747490   95.460525  43.413973           342000   \n",
       "2        18  170.989902  527.349825   75.237905  34.178847           338400   \n",
       "3        18  162.462833  346.149335  109.248561  41.122144           334800   \n",
       "4        18  157.610021  435.376873  111.886648  25.990511           331200   \n",
       "...     ...         ...         ...         ...        ...              ...   \n",
       "306639   18  202.858467  412.870855   85.569847  47.701614            18000   \n",
       "306640   18  171.364527  459.880473   94.316793  47.592136            14400   \n",
       "306641   18  182.867119  491.584480   90.332643  58.592710            10800   \n",
       "306642   18  166.943545  352.047138   82.068954  46.256361             7200   \n",
       "306643   18  186.324464  459.337856  114.542401  48.191245             3600   \n",
       "\n",
       "        time_step  \n",
       "0               1  \n",
       "1               2  \n",
       "2               3  \n",
       "3               4  \n",
       "4               5  \n",
       "...           ...  \n",
       "306639       8757  \n",
       "306640       8758  \n",
       "306641       8759  \n",
       "306642       8760  \n",
       "306643       8761  \n",
       "\n",
       "[306644 rows x 7 columns]"
      ]
     },
     "execution_count": 35,
     "metadata": {},
     "output_type": "execute_result"
    }
   ],
   "source": [
    "#model3_data = model3_data[['age', 'volt', 'rotate', 'pressure', 'vibration', 'seconds_to_fail']]\n",
    "model3_data.drop(['model', 'failure', 'datetime', 'timestamp', 'machineID'], axis=1, inplace=True)\n",
    "model3_data"
   ]
  },
  {
   "cell_type": "code",
   "execution_count": 36,
   "metadata": {
    "colab": {
     "base_uri": "https://localhost:8080/",
     "height": 206
    },
    "id": "6QzsSJ3_BPKX",
    "outputId": "2d282740-b104-4c5e-cf29-7b3d5f0b0386"
   },
   "outputs": [
    {
     "data": {
      "text/html": [
       "<div>\n",
       "<style scoped>\n",
       "    .dataframe tbody tr th:only-of-type {\n",
       "        vertical-align: middle;\n",
       "    }\n",
       "\n",
       "    .dataframe tbody tr th {\n",
       "        vertical-align: top;\n",
       "    }\n",
       "\n",
       "    .dataframe thead th {\n",
       "        text-align: right;\n",
       "    }\n",
       "</style>\n",
       "<table border=\"1\" class=\"dataframe\">\n",
       "  <thead>\n",
       "    <tr style=\"text-align: right;\">\n",
       "      <th></th>\n",
       "      <th>age</th>\n",
       "      <th>volt</th>\n",
       "      <th>rotate</th>\n",
       "      <th>pressure</th>\n",
       "      <th>vibration</th>\n",
       "      <th>seconds_to_fail</th>\n",
       "      <th>time_step</th>\n",
       "    </tr>\n",
       "  </thead>\n",
       "  <tbody>\n",
       "    <tr>\n",
       "      <th>0</th>\n",
       "      <td>0.894737</td>\n",
       "      <td>0.510638</td>\n",
       "      <td>0.469652</td>\n",
       "      <td>0.472451</td>\n",
       "      <td>0.476569</td>\n",
       "      <td>0.010958</td>\n",
       "      <td>0.000000</td>\n",
       "    </tr>\n",
       "    <tr>\n",
       "      <th>1</th>\n",
       "      <td>0.894737</td>\n",
       "      <td>0.421045</td>\n",
       "      <td>0.439431</td>\n",
       "      <td>0.337821</td>\n",
       "      <td>0.448935</td>\n",
       "      <td>0.010844</td>\n",
       "      <td>0.000114</td>\n",
       "    </tr>\n",
       "    <tr>\n",
       "      <th>2</th>\n",
       "      <td>0.894737</td>\n",
       "      <td>0.475523</td>\n",
       "      <td>0.678413</td>\n",
       "      <td>0.183282</td>\n",
       "      <td>0.296461</td>\n",
       "      <td>0.010729</td>\n",
       "      <td>0.000228</td>\n",
       "    </tr>\n",
       "    <tr>\n",
       "      <th>3</th>\n",
       "      <td>0.894737</td>\n",
       "      <td>0.418248</td>\n",
       "      <td>0.330878</td>\n",
       "      <td>0.443188</td>\n",
       "      <td>0.411097</td>\n",
       "      <td>0.010615</td>\n",
       "      <td>0.000342</td>\n",
       "    </tr>\n",
       "    <tr>\n",
       "      <th>4</th>\n",
       "      <td>0.894737</td>\n",
       "      <td>0.385652</td>\n",
       "      <td>0.502013</td>\n",
       "      <td>0.463348</td>\n",
       "      <td>0.161269</td>\n",
       "      <td>0.010501</td>\n",
       "      <td>0.000457</td>\n",
       "    </tr>\n",
       "  </tbody>\n",
       "</table>\n",
       "</div>"
      ],
      "text/plain": [
       "        age      volt    rotate  pressure  vibration  seconds_to_fail  \\\n",
       "0  0.894737  0.510638  0.469652  0.472451   0.476569         0.010958   \n",
       "1  0.894737  0.421045  0.439431  0.337821   0.448935         0.010844   \n",
       "2  0.894737  0.475523  0.678413  0.183282   0.296461         0.010729   \n",
       "3  0.894737  0.418248  0.330878  0.443188   0.411097         0.010615   \n",
       "4  0.894737  0.385652  0.502013  0.463348   0.161269         0.010501   \n",
       "\n",
       "   time_step  \n",
       "0   0.000000  \n",
       "1   0.000114  \n",
       "2   0.000228  \n",
       "3   0.000342  \n",
       "4   0.000457  "
      ]
     },
     "execution_count": 36,
     "metadata": {},
     "output_type": "execute_result"
    }
   ],
   "source": [
    "scaler = MinMaxScaler()\n",
    "\n",
    "normalized_telemetry = pd.DataFrame(data=scaler.fit_transform(model3_data), columns=model3_data.columns)\n",
    "normalized_telemetry.head()"
   ]
  },
  {
   "cell_type": "code",
   "execution_count": 37,
   "metadata": {
    "colab": {
     "base_uri": "https://localhost:8080/"
    },
    "id": "5fwtqiVIBR1I",
    "outputId": "a7c00ddb-b771-4fb1-a8f4-9e7a904b9f83"
   },
   "outputs": [
    {
     "name": "stdout",
     "output_type": "stream",
     "text": [
      "Train size: 245316\n",
      "Test size: 61329\n"
     ]
    }
   ],
   "source": [
    "#Split in 80-20% without random\n",
    "train_size = ceil(normalized_telemetry.shape[0] * 0.8)\n",
    "test_size = ceil(normalized_telemetry.shape[0] * 0.2)\n",
    "print(f'Train size: {train_size}')\n",
    "print(f'Test size: {test_size}')"
   ]
  },
  {
   "cell_type": "code",
   "execution_count": 38,
   "metadata": {
    "colab": {
     "base_uri": "https://localhost:8080/",
     "height": 206
    },
    "id": "ABw9QVl0BazG",
    "outputId": "0fc9bdca-7458-489e-b13a-da54d9d21fa3"
   },
   "outputs": [],
   "source": [
    "# scaler = MinMaxScaler()\n",
    "\n",
    "# normalized_telemetry = pd.DataFrame(data=scaler.fit_transform(model3_data), columns=model3_data.columns)\n",
    "# normalized_telemetry.head()"
   ]
  },
  {
   "cell_type": "code",
   "execution_count": 39,
   "metadata": {
    "colab": {
     "base_uri": "https://localhost:8080/"
    },
    "id": "-3b6PoHEBw5c",
    "outputId": "94d2832a-332a-4ff8-f243-30ca70027278"
   },
   "outputs": [
    {
     "data": {
      "text/plain": [
       "((245316, 7), (61328, 7))"
      ]
     },
     "execution_count": 39,
     "metadata": {},
     "output_type": "execute_result"
    }
   ],
   "source": [
    "#Resetting index for split\n",
    "train_set = normalized_telemetry[:train_size]\n",
    "\n",
    "test_set = normalized_telemetry[train_size:].reset_index(drop=True)\n",
    "\n",
    "train_set.shape, test_set.shape"
   ]
  },
  {
   "cell_type": "code",
   "execution_count": 40,
   "metadata": {
    "colab": {
     "base_uri": "https://localhost:8080/"
    },
    "id": "Gv1I_m-DBoFj",
    "outputId": "b8e24a69-251a-4fe4-dd25-0405025120cf"
   },
   "outputs": [],
   "source": [
    "# train_size = ceil(normalized_telemetry.shape[0] * 0.7)\n",
    "# test_and_val_size = ceil((normalized_telemetry.shape[0] * 0.3) / 2)\n",
    "# print(f'Train size: {train_size}')\n",
    "# print(f'Test and validation size: {test_and_val_size}')"
   ]
  },
  {
   "cell_type": "code",
   "execution_count": 41,
   "metadata": {
    "id": "7g4mHPArBqzC"
   },
   "outputs": [],
   "source": [
    "X_train = train_set.drop('seconds_to_fail', axis=1)\n",
    "X_train = np.array(X_train)\n",
    "y_train = train_set['seconds_to_fail']\n",
    "y_train = np.array(y_train)\n",
    "\n",
    "X_test = test_set.drop('seconds_to_fail', axis=1)\n",
    "X_test = np.array(X_test)\n",
    "y_test = test_set['seconds_to_fail']\n",
    "y_test = np.array(y_test)\n",
    "\n",
    "# X_valid = val_set.drop('seconds_to_fail', axis=1)\n",
    "# X_valid = np.array(X_valid)\n",
    "# y_valid = val_set['seconds_to_fail']\n",
    "# y_valid = np.array(y_valid)"
   ]
  },
  {
   "cell_type": "code",
   "execution_count": 42,
   "metadata": {
    "id": "fRv5lH1Z46jp"
   },
   "outputs": [],
   "source": [
    "def print_plot(y_test, predict):\n",
    "  error = mean_absolute_error(y_test, predict)\n",
    "  print(f'MAE:{error}')\n",
    "  mse = mean_squared_error(y_test, predict)\n",
    "  print(f'MSE:{mse}')\n",
    "  X = np.arange(y_test.shape[0])\n",
    "#   plt.plot(y_test, color='red')\n",
    "  plt.scatter(X,y_test, color='red',s=1)\n",
    "#   plt.plot(predict, color='blue')\n",
    "  plt.scatter(X,predict, color='blue',s=1)\n",
    "  plt.ylim([0, 0.7])\n",
    "  plt.show()"
   ]
  },
  {
   "cell_type": "code",
   "execution_count": 43,
   "metadata": {
    "scrolled": true
   },
   "outputs": [
    {
     "name": "stdout",
     "output_type": "stream",
     "text": [
      "(245316, 6)\n",
      "(61328, 6)\n",
      "(245316,)\n",
      "(61328,)\n"
     ]
    }
   ],
   "source": [
    "print(X_train.shape)\n",
    "print(X_test.shape)\n",
    "print(y_train.shape)\n",
    "print(y_test.shape)"
   ]
  },
  {
   "cell_type": "markdown",
   "metadata": {},
   "source": [
    "#Bidiectional LSTM"
   ]
  },
  {
   "cell_type": "code",
   "execution_count": 44,
   "metadata": {},
   "outputs": [
    {
     "name": "stdout",
     "output_type": "stream",
     "text": [
      "Epoch 1/10\n",
      "7667/7667 [==============================] - 6s 702us/step - loss: 0.0163\n",
      "Epoch 2/10\n",
      "7667/7667 [==============================] - 5s 697us/step - loss: 0.0152\n",
      "Epoch 3/10\n",
      "7667/7667 [==============================] - 5s 705us/step - loss: 0.0148\n",
      "Epoch 4/10\n",
      "7667/7667 [==============================] - 5s 711us/step - loss: 0.0145\n",
      "Epoch 5/10\n",
      "7667/7667 [==============================] - 5s 707us/step - loss: 0.0143\n",
      "Epoch 6/10\n",
      "7667/7667 [==============================] - 5s 709us/step - loss: 0.0141\n",
      "Epoch 7/10\n",
      "7667/7667 [==============================] - 6s 719us/step - loss: 0.0139\n",
      "Epoch 8/10\n",
      "7667/7667 [==============================] - 5s 712us/step - loss: 0.0138\n",
      "Epoch 9/10\n",
      "7667/7667 [==============================] - 6s 723us/step - loss: 0.0137\n",
      "Epoch 10/10\n",
      "7667/7667 [==============================] - 6s 745us/step - loss: 0.0136\n",
      "1917/1917 [==============================] - 1s 298us/step - loss: 0.0212\n",
      "Mean Squared Error: 0.021201804280281067\n",
      "1917/1917 [==============================] - 1s 285us/step\n",
      "MAE:0.10309918338418256\n",
      "MSE:0.021201805048703205\n"
     ]
    },
    {
     "data": {
      "image/png": "[encoded data removed]",
      "text/plain": [
       "<Figure size 640x480 with 1 Axes>"
      ]
     },
     "metadata": {},
     "output_type": "display_data"
    }
   ],
   "source": [
    "import numpy as np\n",
    "import tensorflow as tf\n",
    "from tensorflow.keras.models import Sequential\n",
    "from tensorflow.keras.layers import LSTM, Dense, Bidirectional\n",
    "from keras.layers import Add\n",
    "\n",
    "#Data transfer\n",
    "train_data = X_train  \n",
    "train_labels = y_train \n",
    "test_data = X_test\n",
    "test_labels = y_test\n",
    "\n",
    "# Create the BiLSTM model\n",
    "model = Sequential()\n",
    "model.add(Bidirectional(LSTM(64, activation='relu'), input_shape=(None, 6)))\n",
    "model.add(Dense(1))  # Output layer with a single neuron for forecasting\n",
    "\n",
    "# Compile the model\n",
    "model.compile(optimizer='adam', loss='mse')\n",
    "\n",
    "# Reshape the data for compatibility with BiLSTM input shape\n",
    "train_data = np.reshape(train_data, (train_data.shape[0], 1, train_data.shape[1]))\n",
    "test_data = np.reshape(test_data, (test_data.shape[0], 1, test_data.shape[1]))\n",
    "\n",
    "# Train the model\n",
    "model.fit(train_data, train_labels, epochs=10, batch_size=32)\n",
    "\n",
    "# # Evaluate the model\n",
    "# mse = model.evaluate(test_data, test_labels)\n",
    "# print(f\"Mean Squared Error: {mse}\")\n",
    "\n",
    "# # Make predictions\n",
    "# predictions = model.predict(test_data)\n",
    "# Evaluate the model\n",
    "mse = model.evaluate(test_data, test_labels)\n",
    "print(f\"Mean Squared Error: {mse}\")\n",
    "\n",
    "# Make predictions\n",
    "predict = model.predict(test_data)\n",
    "print_plot(y_test, predict)"
   ]
  },
  {
   "cell_type": "markdown",
   "metadata": {},
   "source": [
    "#LSTM(RNN) with skip connection"
   ]
  },
  {
   "cell_type": "code",
   "execution_count": 45,
   "metadata": {},
   "outputs": [
    {
     "name": "stdout",
     "output_type": "stream",
     "text": [
      "Epoch 1/10\n",
      "7667/7667 [==============================] - 6s 651us/step - loss: 0.0164\n",
      "Epoch 2/10\n",
      "7667/7667 [==============================] - 5s 689us/step - loss: 0.0150\n",
      "Epoch 3/10\n",
      "7667/7667 [==============================] - 5s 684us/step - loss: 0.0146\n",
      "Epoch 4/10\n",
      "7667/7667 [==============================] - 5s 658us/step - loss: 0.0144\n",
      "Epoch 5/10\n",
      "7667/7667 [==============================] - 5s 646us/step - loss: 0.0142\n",
      "Epoch 6/10\n",
      "7667/7667 [==============================] - 5s 685us/step - loss: 0.0141\n",
      "Epoch 7/10\n",
      "7667/7667 [==============================] - 5s 644us/step - loss: 0.0139\n",
      "Epoch 8/10\n",
      "7667/7667 [==============================] - 5s 646us/step - loss: 0.0137\n",
      "Epoch 9/10\n",
      "7667/7667 [==============================] - 5s 663us/step - loss: 0.0135\n",
      "Epoch 10/10\n",
      "7667/7667 [==============================] - 5s 646us/step - loss: 0.0134\n",
      "1917/1917 [==============================] - 1s 288us/step - loss: 0.0208\n",
      "Mean Squared Error: 0.02083471231162548\n",
      "1917/1917 [==============================] - 1s 279us/step\n",
      "MAE:0.09591741139908487\n",
      "MSE:0.020834717786185983\n"
     ]
    },
    {
     "data": {
      "image/png": "[encoded data removed]",
      "text/plain": [
       "<Figure size 640x480 with 1 Axes>"
      ]
     },
     "metadata": {},
     "output_type": "display_data"
    }
   ],
   "source": [
    "import numpy as np\n",
    "import tensorflow as tf\n",
    "from tensorflow.keras.models import Model\n",
    "from tensorflow.keras.layers import Input, LSTM, Dense, Add\n",
    "#Data transfer\n",
    "train_data = X_train  \n",
    "train_labels = y_train \n",
    "test_data = X_test\n",
    "test_labels = y_test\n",
    "\n",
    "# Define the input layer\n",
    "input_layer = Input(shape=(None, 6))\n",
    "\n",
    "# Define the LSTM layer with skip connection\n",
    "lstm_layer = LSTM(6, activation='relu', return_sequences=True)(input_layer)\n",
    "skip_layer = Add()([input_layer, lstm_layer]) #concatenate([input_layer, lstm_layer])\n",
    "\n",
    "# Define the output layer\n",
    "output_layer = LSTM(64, activation='relu')(skip_layer)\n",
    "output_layer = Dense(1)(output_layer)\n",
    "\n",
    "# Create the model\n",
    "model = Model(inputs=input_layer, outputs=output_layer)\n",
    "\n",
    "# Compile the model\n",
    "model.compile(optimizer='adam', loss='mse')\n",
    "\n",
    "# Reshape the data for compatibility with RNN input shape\n",
    "train_data = np.reshape(train_data, (train_data.shape[0], 1, train_data.shape[1]))\n",
    "test_data = np.reshape(test_data, (test_data.shape[0], 1, test_data.shape[1]))\n",
    "\n",
    "# Train the model\n",
    "model.fit(train_data, train_labels, epochs=10, batch_size=32)\n",
    "\n",
    "# Evaluate the model\n",
    "# mse = model.evaluate(test_data, test_labels)\n",
    "# print(f\"Mean Squared Error: {mse}\")\n",
    "\n",
    "# Make predictions\n",
    "# predictions = model.predict(test_data)\n",
    "\n",
    "mse = model.evaluate(test_data, test_labels)\n",
    "print(f\"Mean Squared Error: {mse}\")\n",
    "\n",
    "# Make predictions\n",
    "predict = model.predict(test_data)\n",
    "print_plot(y_test, predict)"
   ]
  },
  {
   "cell_type": "code",
   "execution_count": 46,
   "metadata": {},
   "outputs": [],
   "source": [
    "#Stacked LSTM"
   ]
  },
  {
   "cell_type": "code",
   "execution_count": 47,
   "metadata": {},
   "outputs": [
    {
     "name": "stdout",
     "output_type": "stream",
     "text": [
      "Epoch 1/10\n",
      "7667/7667 [==============================] - 7s 828us/step - loss: 0.0158\n",
      "Epoch 2/10\n",
      "7667/7667 [==============================] - 6s 827us/step - loss: 0.0141\n",
      "Epoch 3/10\n",
      "7667/7667 [==============================] - 6s 818us/step - loss: 0.0136\n",
      "Epoch 4/10\n",
      "7667/7667 [==============================] - 6s 832us/step - loss: 0.0134\n",
      "Epoch 5/10\n",
      "7667/7667 [==============================] - 7s 863us/step - loss: 0.0132\n",
      "Epoch 6/10\n",
      "7667/7667 [==============================] - 6s 844us/step - loss: 0.0129\n",
      "Epoch 7/10\n",
      "7667/7667 [==============================] - 7s 899us/step - loss: 0.0127\n",
      "Epoch 8/10\n",
      "7667/7667 [==============================] - 7s 856us/step - loss: 0.0126\n",
      "Epoch 9/10\n",
      "7667/7667 [==============================] - 7s 869us/step - loss: 0.0125\n",
      "Epoch 10/10\n",
      "7667/7667 [==============================] - 7s 848us/step - loss: 0.0124\n"
     ]
    },
    {
     "data": {
      "text/plain": [
       "<keras.src.callbacks.History at 0x2afa1f3d0>"
      ]
     },
     "execution_count": 47,
     "metadata": {},
     "output_type": "execute_result"
    }
   ],
   "source": [
    "import numpy as np\n",
    "import tensorflow as tf\n",
    "from tensorflow.keras.models import Sequential\n",
    "from tensorflow.keras.layers import LSTM, Dense\n",
    "\n",
    "#Data transfer\n",
    "train_data = X_train  \n",
    "train_labels = y_train \n",
    "test_data = X_test\n",
    "test_labels = y_test\n",
    "\n",
    "# Create the stacked LSTM model\n",
    "model = Sequential()\n",
    "model.add(LSTM(64, activation='relu', return_sequences=True, input_shape=(None, 6)))\n",
    "model.add(LSTM(64, activation='relu'))\n",
    "model.add(Dense(1))  # Output layer with a single neuron for forecasting\n",
    "\n",
    "# Compile the model\n",
    "model.compile(optimizer='adam', loss='mse')\n",
    "\n",
    "# Reshape the data for compatibility with LSTM input shape\n",
    "train_data = np.reshape(train_data, (train_data.shape[0], 1, train_data.shape[1]))\n",
    "test_data = np.reshape(test_data, (test_data.shape[0], 1, test_data.shape[1]))\n",
    "\n",
    "# Train the model\n",
    "model.fit(train_data, train_labels, epochs=10, batch_size=32)\n",
    "\n",
    "# # Evaluate the model\n",
    "# mse = model.evaluate(test_data, test_labels)\n",
    "# print(f\"Mean Squared Error: {mse}\")\n",
    "\n",
    "# # Make predictions\n",
    "# predictions = model.predict(test_data)\n"
   ]
  },
  {
   "cell_type": "code",
   "execution_count": 48,
   "metadata": {},
   "outputs": [
    {
     "name": "stdout",
     "output_type": "stream",
     "text": [
      "1917/1917 [==============================] - 1s 335us/step - loss: 0.0235\n",
      "Mean Squared Error: 0.023451952263712883\n",
      "1917/1917 [==============================] - 1s 319us/step\n",
      "MAE:0.10558594174828763\n",
      "MSE:0.0234519347101225\n"
     ]
    },
    {
     "data": {
      "image/png": "[encoded data removed]",
      "text/plain": [
       "<Figure size 640x480 with 1 Axes>"
      ]
     },
     "metadata": {},
     "output_type": "display_data"
    }
   ],
   "source": [
    "\n",
    "mse = model.evaluate(test_data, test_labels)\n",
    "print(f\"Mean Squared Error: {mse}\")\n",
    "\n",
    "# Make predictions\n",
    "predict = model.predict(test_data)\n",
    "print_plot(y_test, predict)\n"
   ]
  },
  {
   "cell_type": "code",
   "execution_count": 49,
   "metadata": {},
   "outputs": [],
   "source": [
    "## CNN model "
   ]
  },
  {
   "cell_type": "code",
   "execution_count": 50,
   "metadata": {},
   "outputs": [],
   "source": [
    "import tensorflow as tf\n",
    "from tensorflow.keras.models import Sequential\n",
    "from tensorflow.keras.layers import Conv1D, MaxPooling1D, Flatten, Dense\n",
    "\n",
    "def create_cnn_model(input_shape):\n",
    "    model = Sequential()\n",
    "\n",
    "    # Convolutional layer\n",
    "    model.add(Conv1D(filters=32, kernel_size=3, activation='relu', input_shape=input_shape))\n",
    "    \n",
    "    # Max pooling layer\n",
    "    model.add(MaxPooling1D(pool_size=2))\n",
    "    \n",
    "    # Flatten the output\n",
    "    model.add(Flatten())\n",
    "    \n",
    "    # Dense (fully connected) layers\n",
    "    model.add(Dense(64, activation='relu'))\n",
    "    model.add(Dense(1))  # Output layer (1 node for regression)\n",
    "    \n",
    "    # Compile the model\n",
    "    model.compile(optimizer='adam', loss='mean_squared_error')\n",
    "    \n",
    "    return model\n"
   ]
  },
  {
   "cell_type": "code",
   "execution_count": 51,
   "metadata": {},
   "outputs": [
    {
     "name": "stdout",
     "output_type": "stream",
     "text": [
      "Epoch 1/10\n",
      "7667/7667 [==============================] - 2s 305us/step - loss: 0.0163\n",
      "Epoch 2/10\n",
      "7667/7667 [==============================] - 2s 318us/step - loss: 0.0149\n",
      "Epoch 3/10\n",
      "7667/7667 [==============================] - 2s 315us/step - loss: 0.0145\n",
      "Epoch 4/10\n",
      "7667/7667 [==============================] - 2s 303us/step - loss: 0.0142\n",
      "Epoch 5/10\n",
      "7667/7667 [==============================] - 2s 313us/step - loss: 0.0140\n",
      "Epoch 6/10\n",
      "7667/7667 [==============================] - 2s 311us/step - loss: 0.0138\n",
      "Epoch 7/10\n",
      "7667/7667 [==============================] - 2s 317us/step - loss: 0.0137\n",
      "Epoch 8/10\n",
      "7667/7667 [==============================] - 2s 319us/step - loss: 0.0136\n",
      "Epoch 9/10\n",
      "7667/7667 [==============================] - 2s 318us/step - loss: 0.0135\n",
      "Epoch 10/10\n",
      "7667/7667 [==============================] - 3s 350us/step - loss: 0.0134\n"
     ]
    },
    {
     "data": {
      "text/plain": [
       "<keras.src.callbacks.History at 0x2b1f7fd50>"
      ]
     },
     "execution_count": 51,
     "metadata": {},
     "output_type": "execute_result"
    }
   ],
   "source": [
    "##### import numpy as np\n",
    "from sklearn.model_selection import train_test_split\n",
    "from sklearn.preprocessing import MinMaxScaler\n",
    "\n",
    "# Reshape the input data to fit the CNN model\n",
    "X_train = np.expand_dims(X_train, axis=2)\n",
    "X_test = np.expand_dims(X_test, axis=2)\n",
    "\n",
    "# Create the CNN model\n",
    "input_shape = X_train.shape[1:]\n",
    "model = create_cnn_model(input_shape)\n",
    "\n",
    "# Train the model\n",
    "model.fit(X_train, y_train, epochs=10, batch_size=32, verbose=1)\n",
    "\n",
    "# # Evaluate the model on the test set\n",
    "# loss = model.evaluate(X_test, y_test)\n",
    "# print(\"Test Loss:\", loss)\n"
   ]
  },
  {
   "cell_type": "code",
   "execution_count": 52,
   "metadata": {},
   "outputs": [
    {
     "name": "stdout",
     "output_type": "stream",
     "text": [
      "1917/1917 [==============================] - 0s 208us/step\n",
      "MAE:0.10373996827765179\n",
      "MSE:0.021236534663290316\n"
     ]
    },
    {
     "data": {
      "image/png": "[encoded data removed]",
      "text/plain": [
       "<Figure size 640x480 with 1 Axes>"
      ]
     },
     "metadata": {},
     "output_type": "display_data"
    }
   ],
   "source": [
    "# Make predictions\n",
    "predict = model.predict(X_test)\n",
    "print_plot(y_test, predict)"
   ]
  },
  {
   "cell_type": "code",
   "execution_count": 53,
   "metadata": {},
   "outputs": [
    {
     "name": "stdout",
     "output_type": "stream",
     "text": [
      "Model: \"sequential_2\"\n",
      "_________________________________________________________________\n",
      " Layer (type)                Output Shape              Param #   \n",
      "=================================================================\n",
      " conv1d (Conv1D)             (None, 4, 32)             128       \n",
      "                                                                 \n",
      " max_pooling1d (MaxPooling1  (None, 2, 32)             0         \n",
      " D)                                                              \n",
      "                                                                 \n",
      " flatten (Flatten)           (None, 64)                0         \n",
      "                                                                 \n",
      " dense_3 (Dense)             (None, 64)                4160      \n",
      "                                                                 \n",
      " dense_4 (Dense)             (None, 1)                 65        \n",
      "                                                                 \n",
      "=================================================================\n",
      "Total params: 4353 (17.00 KB)\n",
      "Trainable params: 4353 (17.00 KB)\n",
      "Non-trainable params: 0 (0.00 Byte)\n",
      "_________________________________________________________________\n",
      "None\n"
     ]
    }
   ],
   "source": [
    "print(model.summary())"
   ]
  },
  {
   "cell_type": "code",
   "execution_count": 54,
   "metadata": {},
   "outputs": [],
   "source": [
    "# Resnet replica on 1D tabular dataset"
   ]
  },
  {
   "cell_type": "code",
   "execution_count": 55,
   "metadata": {},
   "outputs": [],
   "source": [
    "from keras.models import Model\n",
    "from keras.layers import Input\n",
    "from keras.layers import Add\n",
    "Input_layer = Input(shape=input_shape)\n",
    "x = Conv1D(filters=32, kernel_size=3, padding = 'same', activation='relu', input_shape=input_shape)(Input_layer)\n",
    "x = Conv1D(filters=32, kernel_size=3, padding = 'same', activation='relu')(x)\n",
    "y = Add()([x, Input_layer])\n",
    "temp = x\n",
    "x = Conv1D(filters=32, kernel_size=3, padding = 'same', activation='relu')(y)\n",
    "z = Add()([x, temp])\n",
    "x = Flatten()(x)\n",
    "x = Dense(64, activation='relu')(x)\n",
    "x = Dense(1)(x)  # Output layer (1 node for regression)"
   ]
  },
  {
   "cell_type": "code",
   "execution_count": 56,
   "metadata": {},
   "outputs": [],
   "source": [
    "model = Model(inputs=Input_layer, outputs=x)"
   ]
  },
  {
   "cell_type": "code",
   "execution_count": 57,
   "metadata": {},
   "outputs": [
    {
     "name": "stdout",
     "output_type": "stream",
     "text": [
      "Model: \"model_1\"\n",
      "__________________________________________________________________________________________________\n",
      " Layer (type)                Output Shape                 Param #   Connected to                  \n",
      "==================================================================================================\n",
      " input_2 (InputLayer)        [(None, 6, 1)]               0         []                            \n",
      "                                                                                                  \n",
      " conv1d_1 (Conv1D)           (None, 6, 32)                128       ['input_2[0][0]']             \n",
      "                                                                                                  \n",
      " conv1d_2 (Conv1D)           (None, 6, 32)                3104      ['conv1d_1[0][0]']            \n",
      "                                                                                                  \n",
      " add_1 (Add)                 (None, 6, 32)                0         ['conv1d_2[0][0]',            \n",
      "                                                                     'input_2[0][0]']             \n",
      "                                                                                                  \n",
      " conv1d_3 (Conv1D)           (None, 6, 32)                3104      ['add_1[0][0]']               \n",
      "                                                                                                  \n",
      " flatten_1 (Flatten)         (None, 192)                  0         ['conv1d_3[0][0]']            \n",
      "                                                                                                  \n",
      " dense_5 (Dense)             (None, 64)                   12352     ['flatten_1[0][0]']           \n",
      "                                                                                                  \n",
      " dense_6 (Dense)             (None, 1)                    65        ['dense_5[0][0]']             \n",
      "                                                                                                  \n",
      "==================================================================================================\n",
      "Total params: 18753 (73.25 KB)\n",
      "Trainable params: 18753 (73.25 KB)\n",
      "Non-trainable params: 0 (0.00 Byte)\n",
      "__________________________________________________________________________________________________\n",
      "None\n"
     ]
    }
   ],
   "source": [
    "print(model.summary())"
   ]
  },
  {
   "cell_type": "code",
   "execution_count": 58,
   "metadata": {},
   "outputs": [
    {
     "name": "stdout",
     "output_type": "stream",
     "text": [
      "Epoch 1/10\n",
      "7667/7667 [==============================] - 6s 702us/step - loss: 0.0155\n",
      "Epoch 2/10\n",
      "7667/7667 [==============================] - 5s 653us/step - loss: 0.0135\n",
      "Epoch 3/10\n",
      "7667/7667 [==============================] - 5s 675us/step - loss: 0.0129\n",
      "Epoch 4/10\n",
      "7667/7667 [==============================] - 5s 650us/step - loss: 0.0128\n",
      "Epoch 5/10\n",
      "7667/7667 [==============================] - 5s 649us/step - loss: 0.0128\n",
      "Epoch 6/10\n",
      "7667/7667 [==============================] - 5s 689us/step - loss: 0.0126\n",
      "Epoch 7/10\n",
      "7667/7667 [==============================] - 6s 749us/step - loss: 0.0125\n",
      "Epoch 8/10\n",
      "7667/7667 [==============================] - 5s 678us/step - loss: 0.0126\n",
      "Epoch 9/10\n",
      "7667/7667 [==============================] - 5s 670us/step - loss: 0.0123\n",
      "Epoch 10/10\n",
      "7667/7667 [==============================] - 5s 650us/step - loss: 0.0123\n"
     ]
    },
    {
     "data": {
      "text/plain": [
       "<keras.src.callbacks.History at 0x2b2eac490>"
      ]
     },
     "execution_count": 58,
     "metadata": {},
     "output_type": "execute_result"
    }
   ],
   "source": [
    "# Compile the model\n",
    "model.compile(optimizer='adam', loss='mean_squared_error')\n",
    "# Train the model\n",
    "model.fit(X_train, y_train, epochs=10, batch_size=32, verbose=1)\n",
    "\n",
    "# # Evaluate the model on the test set\n",
    "# loss = model.evaluate(X_test, y_test)\n",
    "# print(\"Test Loss:\", loss)"
   ]
  },
  {
   "cell_type": "code",
   "execution_count": 59,
   "metadata": {},
   "outputs": [
    {
     "name": "stdout",
     "output_type": "stream",
     "text": [
      "1917/1917 [==============================] - 1s 298us/step\n",
      "MAE:0.10461696376779064\n",
      "MSE:0.021998547786103353\n"
     ]
    },
    {
     "data": {
      "image/png": "[encoded data removed]",
      "text/plain": [
       "<Figure size 640x480 with 1 Axes>"
      ]
     },
     "metadata": {},
     "output_type": "display_data"
    }
   ],
   "source": [
    "# Make predictions\n",
    "predict = model.predict(X_test)\n",
    "print_plot(y_test, predict)"
   ]
  },
  {
   "cell_type": "code",
   "execution_count": 60,
   "metadata": {},
   "outputs": [
    {
     "name": "stdout",
     "output_type": "stream",
     "text": [
      "Epoch 1/10\n",
      "7667/7667 [==============================] - 5s 581us/step - loss: 0.0167\n",
      "Epoch 2/10\n",
      "7667/7667 [==============================] - 4s 498us/step - loss: 0.0157\n",
      "Epoch 3/10\n",
      "7667/7667 [==============================] - 4s 521us/step - loss: 0.0152\n",
      "Epoch 4/10\n",
      "7667/7667 [==============================] - 4s 505us/step - loss: 0.0148\n",
      "Epoch 5/10\n",
      "7667/7667 [==============================] - 4s 480us/step - loss: 0.0146\n",
      "Epoch 6/10\n",
      "7667/7667 [==============================] - 4s 483us/step - loss: 0.0144\n",
      "Epoch 7/10\n",
      "7667/7667 [==============================] - 4s 493us/step - loss: 0.0143\n",
      "Epoch 8/10\n",
      "7667/7667 [==============================] - 4s 493us/step - loss: 0.0142\n",
      "Epoch 9/10\n",
      "7667/7667 [==============================] - 4s 478us/step - loss: 0.0142\n",
      "Epoch 10/10\n",
      "7667/7667 [==============================] - 4s 474us/step - loss: 0.0141\n"
     ]
    },
    {
     "data": {
      "text/plain": [
       "<keras.src.callbacks.History at 0x2b4c5dbd0>"
      ]
     },
     "execution_count": 60,
     "metadata": {},
     "output_type": "execute_result"
    }
   ],
   "source": [
    "import numpy as np\n",
    "import tensorflow as tf\n",
    "from tensorflow.keras.models import Sequential\n",
    "from tensorflow.keras.layers import LSTM, Dense\n",
    "\n",
    "# Generate some random tabular data for demonstration\n",
    "train_data = X_train  \n",
    "train_labels = y_train \n",
    "test_data = X_test\n",
    "test_labels = y_test\n",
    "\n",
    "# Create the LSTM model\n",
    "model = Sequential()\n",
    "model.add(LSTM(64, activation='relu', input_shape=(None, 6)))\n",
    "model.add(Dense(1))  # Output layer with a single neuron for forecasting\n",
    "\n",
    "# Compile the model\n",
    "model.compile(optimizer='adam', loss='mse')\n",
    "\n",
    "# Reshape the data for compatibility with LSTM input shape\n",
    "train_data = np.reshape(train_data, (train_data.shape[0], 1, train_data.shape[1]))\n",
    "test_data = np.reshape(test_data, (test_data.shape[0], 1, test_data.shape[1]))\n",
    "\n",
    "# Train the model\n",
    "model.fit(train_data, train_labels, epochs=10, batch_size=32)\n"
   ]
  },
  {
   "cell_type": "code",
   "execution_count": 61,
   "metadata": {},
   "outputs": [
    {
     "name": "stdout",
     "output_type": "stream",
     "text": [
      "1917/1917 [==============================] - 1s 264us/step - loss: 0.0202\n",
      "Mean Squared Error: 0.02019675262272358\n",
      "1917/1917 [==============================] - 1s 239us/step\n",
      "MAE:0.10601716756343198\n",
      "MSE:0.02019676281963734\n"
     ]
    },
    {
     "data": {
      "image/png": "[encoded data removed]",
      "text/plain": [
       "<Figure size 640x480 with 1 Axes>"
      ]
     },
     "metadata": {},
     "output_type": "display_data"
    }
   ],
   "source": [
    "# Evaluate the model\n",
    "mse = model.evaluate(test_data, test_labels)\n",
    "print(f\"Mean Squared Error: {mse}\")\n",
    "\n",
    "# Make predictions\n",
    "predict = model.predict(test_data)\n",
    "print_plot(y_test, predict)"
   ]
  },
  {
   "cell_type": "code",
   "execution_count": 62,
   "metadata": {},
   "outputs": [
    {
     "name": "stdout",
     "output_type": "stream",
     "text": [
      "Epoch 1/10\n",
      "7667/7667 [==============================] - 5s 637us/step - loss: 0.0159\n",
      "Epoch 2/10\n",
      "7667/7667 [==============================] - 5s 639us/step - loss: 0.0147\n",
      "Epoch 3/10\n",
      "7667/7667 [==============================] - 5s 647us/step - loss: 0.0141\n",
      "Epoch 4/10\n",
      "7667/7667 [==============================] - 5s 652us/step - loss: 0.0137\n",
      "Epoch 5/10\n",
      "7667/7667 [==============================] - 5s 654us/step - loss: 0.0135\n",
      "Epoch 6/10\n",
      "7667/7667 [==============================] - 5s 656us/step - loss: 0.0133\n",
      "Epoch 7/10\n",
      "7667/7667 [==============================] - 5s 658us/step - loss: 0.0132\n",
      "Epoch 8/10\n",
      "7667/7667 [==============================] - 5s 702us/step - loss: 0.0130\n",
      "Epoch 9/10\n",
      "7667/7667 [==============================] - 5s 670us/step - loss: 0.0129\n",
      "Epoch 10/10\n",
      "7667/7667 [==============================] - 5s 674us/step - loss: 0.0129\n"
     ]
    },
    {
     "data": {
      "text/plain": [
       "<keras.src.callbacks.History at 0x2b5e7c490>"
      ]
     },
     "execution_count": 62,
     "metadata": {},
     "output_type": "execute_result"
    }
   ],
   "source": [
    "from tensorflow.keras.layers import Reshape\n",
    "\n",
    "train_data = X_train  \n",
    "train_labels = y_train \n",
    "test_data = X_test\n",
    "test_labels = y_test\n",
    "\n",
    "# Create the CNN+LSTM hybrid model\n",
    "model = Sequential()\n",
    "model.add(Conv1D(filters=32, kernel_size=3, activation='relu', input_shape=(6, 1)))\n",
    "model.add(MaxPooling1D(pool_size=2))\n",
    "model.add(Flatten())\n",
    "model.add(Dense(64, activation='relu'))\n",
    "model.add(Reshape((1, 64)))  # Reshape output of Flatten layer to (batch_size, 1, 64)\n",
    "model.add(LSTM(64, activation='relu'))\n",
    "model.add(Dense(1))  # Output layer with a single neuron for forecasting\n",
    "\n",
    "# Compile the model\n",
    "model.compile(optimizer='adam', loss='mse')\n",
    "\n",
    "# Reshape the data for compatibility with CNN+LSTM input shape\n",
    "train_data = np.reshape(train_data, (train_data.shape[0], train_data.shape[1], 1))\n",
    "test_data = np.reshape(test_data, (test_data.shape[0], test_data.shape[1], 1))\n",
    "\n",
    "# Train the model\n",
    "model.fit(train_data, train_labels, epochs=10, batch_size=32)"
   ]
  },
  {
   "cell_type": "code",
   "execution_count": 63,
   "metadata": {},
   "outputs": [
    {
     "name": "stdout",
     "output_type": "stream",
     "text": [
      "1917/1917 [==============================] - 1s 319us/step - loss: 0.0199\n",
      "Mean Squared Error: 0.01987561397254467\n",
      "1917/1917 [==============================] - 1s 286us/step\n",
      "MAE:0.09584584796843916\n",
      "MSE:0.019875623394714697\n"
     ]
    },
    {
     "data": {
      "image/png": "[encoded data removed]",
      "text/plain": [
       "<Figure size 640x480 with 1 Axes>"
      ]
     },
     "metadata": {},
     "output_type": "display_data"
    }
   ],
   "source": [
    "# Evaluate the model\n",
    "mse = model.evaluate(test_data, test_labels)\n",
    "print(f\"Mean Squared Error: {mse}\")\n",
    "\n",
    "# Make predictions\n",
    "predict = model.predict(test_data)\n",
    "print_plot(y_test, predict)"
   ]
  },
  {
   "cell_type": "code",
   "execution_count": 64,
   "metadata": {},
   "outputs": [],
   "source": [
    "# from keras.utils import plot_model\n",
    "# plot_model(model, to_file='model_plot.png', show_shapes=True, show_layer_names=True)"
   ]
  },
  {
   "cell_type": "code",
   "execution_count": null,
   "metadata": {},
   "outputs": [],
   "source": []
  },
  {
   "cell_type": "code",
   "execution_count": null,
   "metadata": {},
   "outputs": [],
   "source": []
  }
 ],
 "metadata": {
  "colab": {
   "provenance": []
  },
  "kernelspec": {
   "display_name": "Python 3 (ipykernel)",
   "language": "python",
   "name": "python3"
  },
  "language_info": {
   "codemirror_mode": {
    "name": "ipython",
    "version": 3
   },
   "file_extension": ".py",
   "mimetype": "text/x-python",
   "name": "python",
   "nbconvert_exporter": "python",
   "pygments_lexer": "ipython3",
   "version": "3.11.3"
  }
 },
 "nbformat": 4,
 "nbformat_minor": 1
}
